{
  "cells": [
    {
      "cell_type": "code",
      "execution_count": 1,
      "metadata": {
        "cellView": "form",
        "id": "wDlWLbfkJtvu"
      },
      "outputs": [],
      "source": [
        "#@title Copyright 2020 Google LLC. Double-click here for license information.\n",
        "# Licensed under the Apache License, Version 2.0 (the \"License\");\n",
        "# you may not use this file except in compliance with the License.\n",
        "# You may obtain a copy of the License at\n",
        "#\n",
        "# https://www.apache.org/licenses/LICENSE-2.0\n",
        "#\n",
        "# Unless required by applicable law or agreed to in writing, software\n",
        "# distributed under the License is distributed on an \"AS IS\" BASIS,\n",
        "# WITHOUT WARRANTIES OR CONDITIONS OF ANY KIND, either express or implied.\n",
        "# See the License for the specific language governing permissions and\n",
        "# limitations under the License."
      ]
    },
    {
      "cell_type": "markdown",
      "metadata": {
        "id": "T4r2z30vJSbA"
      },
      "source": [
        "# Colabs\n",
        "\n",
        "Machine Learning Crash Course uses Colaboratories (Colabs) for all programming exercises. Colab is Google's implementation of [Jupyter Notebook](https://jupyter.org/). For more information about Colabs and how to use them, go to [Welcome to Colaboratory](https://research.google.com/colaboratory)."
      ]
    },
    {
      "cell_type": "markdown",
      "metadata": {
        "id": "TL5y5fY9Jy_x"
      },
      "source": [
        "# Binary Classification\n",
        "\n",
        "So far, you've only created regression models. That is, you created models that produced floating-point predictions, such as, \"houses in this neighborhood costs N thousand dollars.\" In this Colab, you'll create and evaluate a binary [classification model](https://developers.google.com/machine-learning/glossary/#classification_model).  That is, you'll create a model that answers a binary question. In this exercise, the binary question will be, \"Are houses in this neighborhood above a certain price?\"\n",
        "\n",
        "\n",
        "\n"
      ]
    },
    {
      "cell_type": "markdown",
      "metadata": {
        "id": "yuw8rRl9lNuL"
      },
      "source": [
        "## Learning Objectives:\n",
        "\n",
        "After doing this Colab, you'll know how to:\n",
        "\n",
        "  * Convert a regression question into a classification question.\n",
        "  * Modify the classification threshold and determine how that modification influences the model.\n",
        "  * Experiment with different classification metrics to determine your model's effectiveness."
      ]
    },
    {
      "cell_type": "markdown",
      "metadata": {
        "id": "44OdC-OglN9D"
      },
      "source": [
        "## The Dataset\n",
        "  \n",
        "Like several of the previous Colabs, this Colab uses the [California Housing Dataset](https://developers.google.com/machine-learning/crash-course/california-housing-data-description)."
      ]
    },
    {
      "cell_type": "markdown",
      "metadata": {
        "id": "5iuw6-JOGf7I"
      },
      "source": [
        "## Call the import statements\n",
        "\n",
        "The following code imports the necessary modules."
      ]
    },
    {
      "cell_type": "code",
      "execution_count": 2,
      "metadata": {
        "cellView": "form",
        "id": "9n9_cTveKmse"
      },
      "outputs": [
        {
          "name": "stderr",
          "output_type": "stream",
          "text": [
            "/Users/gabriel/Library/Python/3.9/lib/python/site-packages/urllib3/__init__.py:34: NotOpenSSLWarning: urllib3 v2.0 only supports OpenSSL 1.1.1+, currently the 'ssl' module is compiled with 'LibreSSL 2.8.3'. See: https://github.com/urllib3/urllib3/issues/3020\n",
            "  warnings.warn(\n"
          ]
        },
        {
          "name": "stdout",
          "output_type": "stream",
          "text": [
            "Ran the import statements.\n"
          ]
        }
      ],
      "source": [
        "#@title Load the imports\n",
        "\n",
        "import numpy as np\n",
        "import pandas as pd\n",
        "import tensorflow as tf\n",
        "from tensorflow.keras import layers\n",
        "from matplotlib import pyplot as plt\n",
        "\n",
        "# The following lines adjust the granularity of reporting.\n",
        "pd.options.display.max_rows = 10\n",
        "pd.options.display.float_format = \"{:.1f}\".format\n",
        "# tf.keras.backend.set_floatx('float32')\n",
        "\n",
        "print(\"Ran the import statements.\")"
      ]
    },
    {
      "cell_type": "markdown",
      "metadata": {
        "id": "X_TaJhU4KcuY"
      },
      "source": [
        "## Load the datasets from the internet\n",
        "\n",
        "The following code cell loads the separate .csv files and creates the following two pandas DataFrames:\n",
        "\n",
        "* `train_df`, which contains the training set\n",
        "* `test_df`, which contains the test set"
      ]
    },
    {
      "cell_type": "code",
      "execution_count": 3,
      "metadata": {
        "id": "JZlvdpyYKx7V"
      },
      "outputs": [],
      "source": [
        "train_df = pd.read_csv(\"https://download.mlcc.google.com/mledu-datasets/california_housing_train.csv\")\n",
        "test_df = pd.read_csv(\"https://download.mlcc.google.com/mledu-datasets/california_housing_test.csv\")\n",
        "train_df = train_df.reindex(np.random.permutation(train_df.index)) # shuffle the training set"
      ]
    },
    {
      "cell_type": "markdown",
      "metadata": {
        "id": "q_vuAQq0Cvrp"
      },
      "source": [
        "Unlike some of the previous Colabs, the preceding code cell did not scale the label (`median_house_value`).  The following section (\"Normalize values\") provides an alternative approach."
      ]
    },
    {
      "cell_type": "markdown",
      "metadata": {
        "id": "_G6y-XcEmk6r"
      },
      "source": [
        "## Normalize values\n",
        "\n",
        "When creating a model with multiple features, the values of each feature should cover roughly the same range.  For example, if one feature's range spans 500 to 100,000 and another feature's range spans 2 to 12, then the model will be difficult or impossible to train. Therefore, you should\n",
        "[normalize](https://developers.google.com/machine-learning/glossary/#normalization) features in a multi-feature model.\n",
        "\n",
        "The following code cell normalizes datasets by converting each raw value (including the label) to its Z-score. A **Z-score** is the number of standard deviations from the mean for a particular raw value. For example, consider a feature having the following characteristics:\n",
        "\n",
        "  * The mean is 60.\n",
        "  * The standard deviation is 10.\n",
        "\n",
        "The raw value 75 would have a Z-score of +1.5:\n",
        "\n",
        "```\n",
        "  Z-score = (75 - 60) / 10 = +1.5\n",
        "```\n",
        "\n",
        "The raw value 38 would have a Z-score of -2.2:\n",
        "\n",
        "```\n",
        "  Z-score = (38 - 60) / 10 = -2.2\n",
        "```"
      ]
    },
    {
      "cell_type": "code",
      "execution_count": 4,
      "metadata": {
        "id": "n7nuAHoZIgVI"
      },
      "outputs": [
        {
          "data": {
            "text/html": [
              "<div>\n",
              "<style scoped>\n",
              "    .dataframe tbody tr th:only-of-type {\n",
              "        vertical-align: middle;\n",
              "    }\n",
              "\n",
              "    .dataframe tbody tr th {\n",
              "        vertical-align: top;\n",
              "    }\n",
              "\n",
              "    .dataframe thead th {\n",
              "        text-align: right;\n",
              "    }\n",
              "</style>\n",
              "<table border=\"1\" class=\"dataframe\">\n",
              "  <thead>\n",
              "    <tr style=\"text-align: right;\">\n",
              "      <th></th>\n",
              "      <th>longitude</th>\n",
              "      <th>latitude</th>\n",
              "      <th>housing_median_age</th>\n",
              "      <th>total_rooms</th>\n",
              "      <th>total_bedrooms</th>\n",
              "      <th>population</th>\n",
              "      <th>households</th>\n",
              "      <th>median_income</th>\n",
              "      <th>median_house_value</th>\n",
              "    </tr>\n",
              "  </thead>\n",
              "  <tbody>\n",
              "    <tr>\n",
              "      <th>9258</th>\n",
              "      <td>0.2</td>\n",
              "      <td>-0.1</td>\n",
              "      <td>-1.6</td>\n",
              "      <td>2.0</td>\n",
              "      <td>1.4</td>\n",
              "      <td>1.4</td>\n",
              "      <td>1.4</td>\n",
              "      <td>0.6</td>\n",
              "      <td>-0.6</td>\n",
              "    </tr>\n",
              "    <tr>\n",
              "      <th>8548</th>\n",
              "      <td>0.5</td>\n",
              "      <td>-0.8</td>\n",
              "      <td>-0.5</td>\n",
              "      <td>0.4</td>\n",
              "      <td>1.0</td>\n",
              "      <td>-0.1</td>\n",
              "      <td>1.2</td>\n",
              "      <td>-0.3</td>\n",
              "      <td>2.5</td>\n",
              "    </tr>\n",
              "    <tr>\n",
              "      <th>3262</th>\n",
              "      <td>0.8</td>\n",
              "      <td>-0.9</td>\n",
              "      <td>-1.2</td>\n",
              "      <td>-0.5</td>\n",
              "      <td>0.1</td>\n",
              "      <td>1.7</td>\n",
              "      <td>0.4</td>\n",
              "      <td>-1.2</td>\n",
              "      <td>-0.6</td>\n",
              "    </tr>\n",
              "    <tr>\n",
              "      <th>2512</th>\n",
              "      <td>1.0</td>\n",
              "      <td>-1.0</td>\n",
              "      <td>-1.3</td>\n",
              "      <td>0.4</td>\n",
              "      <td>-0.0</td>\n",
              "      <td>0.1</td>\n",
              "      <td>-0.0</td>\n",
              "      <td>1.7</td>\n",
              "      <td>1.3</td>\n",
              "    </tr>\n",
              "    <tr>\n",
              "      <th>13661</th>\n",
              "      <td>-1.2</td>\n",
              "      <td>0.9</td>\n",
              "      <td>-0.8</td>\n",
              "      <td>1.3</td>\n",
              "      <td>1.1</td>\n",
              "      <td>1.1</td>\n",
              "      <td>1.2</td>\n",
              "      <td>0.6</td>\n",
              "      <td>0.5</td>\n",
              "    </tr>\n",
              "  </tbody>\n",
              "</table>\n",
              "</div>"
            ],
            "text/plain": [
              "       longitude  latitude  housing_median_age  total_rooms  total_bedrooms  \\\n",
              "9258         0.2      -0.1                -1.6          2.0             1.4   \n",
              "8548         0.5      -0.8                -0.5          0.4             1.0   \n",
              "3262         0.8      -0.9                -1.2         -0.5             0.1   \n",
              "2512         1.0      -1.0                -1.3          0.4            -0.0   \n",
              "13661       -1.2       0.9                -0.8          1.3             1.1   \n",
              "\n",
              "       population  households  median_income  median_house_value  \n",
              "9258          1.4         1.4            0.6                -0.6  \n",
              "8548         -0.1         1.2           -0.3                 2.5  \n",
              "3262          1.7         0.4           -1.2                -0.6  \n",
              "2512          0.1        -0.0            1.7                 1.3  \n",
              "13661         1.1         1.2            0.6                 0.5  "
            ]
          },
          "execution_count": 4,
          "metadata": {},
          "output_type": "execute_result"
        }
      ],
      "source": [
        "# Calculate the Z-scores of each column in the training set and\n",
        "# write those Z-scores into a new pandas DataFrame named train_df_norm.\n",
        "train_df_mean = train_df.mean()\n",
        "train_df_std = train_df.std()\n",
        "train_df_norm = (train_df - train_df_mean)/train_df_std\n",
        "\n",
        "# Examine some of the values of the normalized training set. Notice that most\n",
        "# Z-scores fall between -2 and +2.\n",
        "train_df_norm.head()"
      ]
    },
    {
      "cell_type": "code",
      "execution_count": 5,
      "metadata": {
        "id": "QoW-59jVFF2I"
      },
      "outputs": [],
      "source": [
        "# Calculate the Z-scores of each column in the test set and\n",
        "# write those Z-scores into a new pandas DataFrame named test_df_norm.\n",
        "test_df_norm = (test_df - train_df_mean) / train_df_std\n",
        "\n",
        "# Note that we transform the test data with the values calculated from the training set,\n",
        "# as you should always transform your datasets with exactly the same values."
      ]
    },
    {
      "cell_type": "markdown",
      "metadata": {
        "id": "-swmXtWnZGis"
      },
      "source": [
        "## Task 1: Create a binary label\n",
        "\n",
        "In classification problems, the label for every example must be either 0 or 1. Unfortunately, the natural label in the California Housing Dataset, `median_house_value`, contains floating-point values like 80,100 or 85,700 rather than 0s and 1s, while the normalized version of `median_house_values` contains floating-point values primarily between -3 and +3.\n",
        "\n",
        "Your task is to create a new column named `median_house_value_is_high` in both the training set and the test set . If the `median_house_value` is higher than a certain arbitrary value (defined by `threshold`), then set `median_house_value_is_high` to 1. Otherwise, set `median_house_value_is_high` to 0.\n",
        "\n",
        "**Hint:** The cells in the `median_house_value_is_high` column must each hold `1` and `0`, not `True` and `False`. To convert `True` and `False` to  `1` and `0`, call the pandas DataFrame function `astype(float)`."
      ]
    },
    {
      "cell_type": "code",
      "execution_count": 6,
      "metadata": {
        "id": "d4kWfWA8bhKW"
      },
      "outputs": [
        {
          "data": {
            "text/plain": [
              "9258    0.0\n",
              "8548    1.0\n",
              "3262    0.0\n",
              "2512    1.0\n",
              "13661   1.0\n",
              "         ..\n",
              "7299    1.0\n",
              "6886    1.0\n",
              "4238    1.0\n",
              "2403    0.0\n",
              "4457    1.0\n",
              "Name: median_house_value_is_high, Length: 8000, dtype: float64"
            ]
          },
          "execution_count": 6,
          "metadata": {},
          "output_type": "execute_result"
        }
      ],
      "source": [
        "threshold = 265000 # This is the 75th percentile for median house values.\n",
        "train_df_norm[\"median_house_value_is_high\"] = \\\n",
        "    (train_df[\"median_house_value\"] > threshold).astype(float) # Your code here\n",
        "test_df_norm[\"median_house_value_is_high\"] = \\\n",
        "    (test_df[\"median_house_value\"] > threshold).astype(float)  # Your code here\n",
        "\n",
        "# Print out a few example cells from the beginning and\n",
        "# middle of the training set, just to make sure that\n",
        "# your code created only 0s and 1s in the newly created\n",
        "# median_house_value_is_high column\n",
        "train_df_norm[\"median_house_value_is_high\"].head(8000)"
      ]
    },
    {
      "cell_type": "code",
      "execution_count": 7,
      "metadata": {
        "id": "b8b2fNmHO-iU"
      },
      "outputs": [
        {
          "data": {
            "text/plain": [
              "9258    0.0\n",
              "8548    1.0\n",
              "3262    0.0\n",
              "2512    1.0\n",
              "13661   1.0\n",
              "         ..\n",
              "7299    1.0\n",
              "6886    1.0\n",
              "4238    1.0\n",
              "2403    0.0\n",
              "4457    1.0\n",
              "Name: median_house_value_is_high, Length: 8000, dtype: float64"
            ]
          },
          "execution_count": 7,
          "metadata": {},
          "output_type": "execute_result"
        }
      ],
      "source": [
        "#@title Double-click for possible solutions.\n",
        "\n",
        "# We arbitrarily set the threshold to 265,000, which is\n",
        "# the 75th percentile for median house values.  Every neighborhood\n",
        "# with a median house price above 265,000 will be labeled 1,\n",
        "# and all other neighborhoods will be labeled 0.\n",
        "threshold = 265000\n",
        "train_df_norm[\"median_house_value_is_high\"] = (train_df[\"median_house_value\"] > threshold).astype(float)\n",
        "test_df_norm[\"median_house_value_is_high\"] = (test_df[\"median_house_value\"] > threshold).astype(float)\n",
        "train_df_norm[\"median_house_value_is_high\"].head(8000)\n",
        "\n",
        "\n",
        "# Alternatively, instead of picking the threshold\n",
        "# based on raw house values, you can work with Z-scores.\n",
        "# For example, the following possible solution uses a Z-score\n",
        "# of +1.0 as the threshold, meaning that no more\n",
        "# than 16% of the values in median_house_value_is_high\n",
        "# will be labeled 1.\n",
        "\n",
        "# threshold_in_Z = 1.0\n",
        "# train_df_norm[\"median_house_value_is_high\"] = (train_df_norm[\"median_house_value\"] > threshold_in_Z).astype(float)\n",
        "# test_df_norm[\"median_house_value_is_high\"] = (test_df_norm[\"median_house_value\"] > threshold_in_Z).astype(float)\n"
      ]
    },
    {
      "cell_type": "markdown",
      "metadata": {
        "id": "8kir8UTUXSV8"
      },
      "source": [
        "## Represent features as input layers\n",
        "\n",
        "This code cell specifies the features, `median_income` and ` total_rooms`, that you'll ultimately train the model on. These [Input](https://www.tensorflow.org/api_docs/python/tf/keras/Input) objects are instantiated as Keras tensors."
      ]
    },
    {
      "cell_type": "code",
      "execution_count": 8,
      "metadata": {
        "id": "3tmmZIDw4JEC"
      },
      "outputs": [],
      "source": [
        "inputs = {\n",
        "# Features used to train the model on.\n",
        "  'median_income': tf.keras.Input(shape=(1,)),\n",
        "  'total_rooms': tf.keras.Input(shape=(1,))\n",
        "}"
      ]
    },
    {
      "cell_type": "markdown",
      "metadata": {
        "id": "3014ezH3C7jT"
      },
      "source": [
        "## Define functions that build and train a model\n",
        "\n",
        "The following code cell defines two functions:\n",
        "\n",
        "  * `create_model(inputs, learning_rate, METRICS)`, which defines the model's\n",
        "    topography.\n",
        "  * `train_model(model, dataset, epochs, label_name, batch_size, shuffle)`, uses input features and labels to train the model.\n",
        "\n",
        "Prior exercises used [ReLU](https://developers.google.com/machine-learning/glossary#ReLU) as the [activation function](https://developers.google.com/machine-learning/glossary#activation-function). By contrast, this exercise uses [sigmoid](https://developers.google.com/machine-learning/glossary#sigmoid-function) as the activation function."
      ]
    },
    {
      "cell_type": "code",
      "execution_count": 9,
      "metadata": {
        "id": "pedD5GhlDC-y"
      },
      "outputs": [
        {
          "name": "stdout",
          "output_type": "stream",
          "text": [
            "Defined the create_model and train_model functions.\n"
          ]
        }
      ],
      "source": [
        "#@title Define the functions that create and train a model.\n",
        "def create_model(my_inputs, my_learning_rate, METRICS):\n",
        "  # Use a Concatenate layer to concatenate the input layers into a single tensor.\n",
        "  # as input for the Dense layer. Ex: [input_1[0][0], input_2[0][0]]\n",
        "  concatenated_inputs = tf.keras.layers.Concatenate()(my_inputs.values())\n",
        "  dense = layers.Dense(units=1, name='dense_layer', activation=tf.sigmoid)\n",
        "  dense_output = dense(concatenated_inputs)\n",
        "  \"\"\"Create and compile a simple classification model.\"\"\"\n",
        "  my_outputs = {\n",
        "    'dense': dense_output,\n",
        "  }\n",
        "  model = tf.keras.Model(inputs=my_inputs, outputs=my_outputs)\n",
        "\n",
        "  # Call the compile method to construct the layers into a model that\n",
        "  # TensorFlow can execute.  Notice that we're using a different loss\n",
        "  # function for classification than for regression.\n",
        "  model.compile(optimizer=tf.keras.optimizers.experimental.RMSprop(learning_rate=my_learning_rate),\n",
        "                loss=tf.keras.losses.BinaryCrossentropy(),\n",
        "                metrics=METRICS)\n",
        "  return model\n",
        "\n",
        "\n",
        "def train_model(model, dataset, epochs, label_name,\n",
        "                batch_size=None, shuffle=True):\n",
        "  \"\"\"Feed a dataset into the model in order to train it.\"\"\"\n",
        "\n",
        "  # The x parameter of tf.keras.Model.fit can be a list of arrays, where\n",
        "  # each array contains the data for one feature.  Here, we're passing\n",
        "  # every column in the dataset. Note that the feature_layer will filter\n",
        "  # away most of those columns, leaving only the desired columns and their\n",
        "  # representations as features.\n",
        "  features = {name:np.array(value) for name, value in dataset.items()}\n",
        "  label = np.array(features.pop(label_name))\n",
        "  history = model.fit(x=features, y=label, batch_size=batch_size,\n",
        "                      epochs=epochs, shuffle=shuffle)\n",
        "\n",
        "  # The list of epochs is stored separately from the rest of history.\n",
        "  epochs = history.epoch\n",
        "\n",
        "  # Isolate the classification metric for each epoch.\n",
        "  hist = pd.DataFrame(history.history)\n",
        "\n",
        "  return epochs, hist\n",
        "\n",
        "print(\"Defined the create_model and train_model functions.\")"
      ]
    },
    {
      "cell_type": "markdown",
      "metadata": {
        "id": "Ak_TMAzGOIFq"
      },
      "source": [
        "## Define a plotting function\n",
        "\n",
        "The following [matplotlib](https://developers.google.com/machine-learning/glossary/#matplotlib) function plots one or more curves, showing how various classification metrics change with each epoch."
      ]
    },
    {
      "cell_type": "code",
      "execution_count": 10,
      "metadata": {
        "cellView": "form",
        "id": "QF0BFRXTOeR3"
      },
      "outputs": [
        {
          "name": "stdout",
          "output_type": "stream",
          "text": [
            "Defined the plot_curve function.\n"
          ]
        }
      ],
      "source": [
        "#@title Define the plotting function.\n",
        "def plot_curve(epochs, hist, list_of_metrics):\n",
        "  \"\"\"Plot a curve of one or more classification metrics vs. epoch.\"\"\"\n",
        "  # list_of_metrics should be one of the names shown in:\n",
        "  # https://www.tensorflow.org/tutorials/structured_data/imbalanced_data#define_the_model_and_metrics\n",
        "\n",
        "  plt.figure()\n",
        "  plt.xlabel(\"Epoch\")\n",
        "  plt.ylabel(\"Value\")\n",
        "\n",
        "  for m in list_of_metrics:\n",
        "    x = hist[m]\n",
        "    plt.plot(epochs[1:], x[1:], label=m)\n",
        "\n",
        "  plt.legend()\n",
        "\n",
        "print(\"Defined the plot_curve function.\")"
      ]
    },
    {
      "cell_type": "markdown",
      "metadata": {
        "id": "D-IXYVfvM4gD"
      },
      "source": [
        "## Invoke the creating, training, and plotting functions\n",
        "\n",
        "The following code cell calls specify the hyperparameters, and then invokes the\n",
        "functions to create and train the model, and then to plot the results."
      ]
    },
    {
      "cell_type": "code",
      "execution_count": 11,
      "metadata": {
        "cellView": "both",
        "id": "nj3v5EKQFY8s"
      },
      "outputs": [
        {
          "name": "stderr",
          "output_type": "stream",
          "text": [
            "WARNING:absl:At this time, the v2.11+ optimizer `tf.keras.optimizers.RMSprop` runs slowly on M1/M2 Macs, please use the legacy Keras optimizer instead, located at `tf.keras.optimizers.legacy.RMSprop`.\n"
          ]
        },
        {
          "name": "stdout",
          "output_type": "stream",
          "text": [
            "Epoch 1/20\n"
          ]
        },
        {
          "name": "stderr",
          "output_type": "stream",
          "text": [
            "/Users/gabriel/Library/Python/3.9/lib/python/site-packages/keras/src/engine/functional.py:642: UserWarning: Input dict contained keys ['longitude', 'latitude', 'housing_median_age', 'total_bedrooms', 'population', 'households', 'median_house_value'] which did not match any model input. They will be ignored by the model.\n",
            "  inputs = self._flatten_to_reference_inputs(inputs)\n"
          ]
        },
        {
          "name": "stdout",
          "output_type": "stream",
          "text": [
            "170/170 [==============================] - 0s 358us/step - loss: 0.7056 - accuracy: 0.2547\n",
            "Epoch 2/20\n",
            "170/170 [==============================] - 0s 324us/step - loss: 0.6294 - accuracy: 0.3558\n",
            "Epoch 3/20\n",
            "170/170 [==============================] - 0s 320us/step - loss: 0.5663 - accuracy: 0.5574\n",
            "Epoch 4/20\n",
            "170/170 [==============================] - 0s 325us/step - loss: 0.5170 - accuracy: 0.6900\n",
            "Epoch 5/20\n",
            "170/170 [==============================] - 0s 328us/step - loss: 0.4790 - accuracy: 0.7576\n",
            "Epoch 6/20\n",
            "170/170 [==============================] - 0s 327us/step - loss: 0.4513 - accuracy: 0.7866\n",
            "Epoch 7/20\n",
            "170/170 [==============================] - 0s 323us/step - loss: 0.4318 - accuracy: 0.8008\n",
            "Epoch 8/20\n",
            "170/170 [==============================] - 0s 321us/step - loss: 0.4185 - accuracy: 0.8076\n",
            "Epoch 9/20\n",
            "170/170 [==============================] - 0s 321us/step - loss: 0.4097 - accuracy: 0.8093\n",
            "Epoch 10/20\n",
            "170/170 [==============================] - 0s 320us/step - loss: 0.4041 - accuracy: 0.8095\n",
            "Epoch 11/20\n",
            "170/170 [==============================] - 0s 322us/step - loss: 0.4007 - accuracy: 0.8088\n",
            "Epoch 12/20\n",
            "170/170 [==============================] - 0s 318us/step - loss: 0.3987 - accuracy: 0.8085\n",
            "Epoch 13/20\n",
            "170/170 [==============================] - 0s 316us/step - loss: 0.3977 - accuracy: 0.8091\n",
            "Epoch 14/20\n",
            "170/170 [==============================] - 0s 316us/step - loss: 0.3971 - accuracy: 0.8093\n",
            "Epoch 15/20\n",
            "170/170 [==============================] - 0s 320us/step - loss: 0.3969 - accuracy: 0.8086\n",
            "Epoch 16/20\n",
            "170/170 [==============================] - 0s 320us/step - loss: 0.3968 - accuracy: 0.8085\n",
            "Epoch 17/20\n",
            "170/170 [==============================] - 0s 319us/step - loss: 0.3967 - accuracy: 0.8088\n",
            "Epoch 18/20\n",
            "170/170 [==============================] - 0s 319us/step - loss: 0.3966 - accuracy: 0.8090\n",
            "Epoch 19/20\n",
            "170/170 [==============================] - 0s 317us/step - loss: 0.3966 - accuracy: 0.8086\n",
            "Epoch 20/20\n",
            "170/170 [==============================] - 0s 318us/step - loss: 0.3966 - accuracy: 0.8084\n"
          ]
        },
        {
          "data": {
            "image/png": "[encoded data removed]",
            "text/plain": [
              "<Figure size 640x480 with 1 Axes>"
            ]
          },
          "metadata": {},
          "output_type": "display_data"
        }
      ],
      "source": [
        "# The following variables are the hyperparameters.\n",
        "learning_rate = 0.001\n",
        "epochs = 20\n",
        "batch_size = 100\n",
        "label_name = \"median_house_value_is_high\"\n",
        "classification_threshold = 0.35\n",
        "\n",
        "# Establish the metrics the model will measure.\n",
        "METRICS = [\n",
        "           tf.keras.metrics.BinaryAccuracy(name='accuracy',\n",
        "                                           threshold=classification_threshold),\n",
        "          ]\n",
        "\n",
        "# Establish the model's topography.\n",
        "my_model = create_model(inputs, learning_rate, METRICS)\n",
        "\n",
        "# To view a PNG of this model's layers, uncomment the call to\n",
        "# `tf.keras.utils.plot_model` below. After running this code cell, click\n",
        "# the file folder on the left, then the `my_classification_model.png` file.\n",
        "# tf.keras.utils.plot_model(my_model, \"my_classification_model.png\")\n",
        "\n",
        "# Train the model on the training set.\n",
        "epochs, hist = train_model(my_model, train_df_norm, epochs,\n",
        "                           label_name, batch_size)\n",
        "\n",
        "# Plot a graph of the metric(s) vs. epochs.\n",
        "list_of_metrics_to_plot = ['accuracy']\n",
        "\n",
        "plot_curve(epochs, hist, list_of_metrics_to_plot)"
      ]
    },
    {
      "cell_type": "markdown",
      "metadata": {
        "id": "FF64TpqkbOpn"
      },
      "source": [
        "Accuracy should gradually improve during training (until it can\n",
        "improve no more)."
      ]
    },
    {
      "cell_type": "markdown",
      "metadata": {
        "id": "1xNqWWos_zyk"
      },
      "source": [
        "## Evaluate the model against the test set\n",
        "\n",
        "At the end of model training, you ended up with a certain accuracy against the *training set*. Invoke the following code cell to determine your model's accuracy against the *test set*."
      ]
    },
    {
      "cell_type": "code",
      "execution_count": 12,
      "metadata": {
        "id": "eJorkMlDmtHf"
      },
      "outputs": [
        {
          "name": "stdout",
          "output_type": "stream",
          "text": [
            "30/30 [==============================] - 0s 424us/step - loss: 0.4070 - accuracy: 0.8043\n"
          ]
        },
        {
          "data": {
            "text/plain": [
              "[0.4070238173007965, 0.8043333292007446]"
            ]
          },
          "execution_count": 12,
          "metadata": {},
          "output_type": "execute_result"
        }
      ],
      "source": [
        "features = {name:np.array(value) for name, value in test_df_norm.items()}\n",
        "label = np.array(features.pop(label_name))\n",
        "\n",
        "my_model.evaluate(x = features, y = label, batch_size=batch_size)"
      ]
    },
    {
      "cell_type": "markdown",
      "metadata": {
        "id": "q7cHkFXalXV5"
      },
      "source": [
        "## Task 2: How accurate is your model really?\n",
        "\n",
        "Is your model valuable?"
      ]
    },
    {
      "cell_type": "code",
      "execution_count": 13,
      "metadata": {
        "id": "rUvCrQkulwjV"
      },
      "outputs": [],
      "source": [
        "#@title Double-click for a possible answer to Task 2.\n",
        "\n",
        "# A perfect model would make 100% accurate predictions.\n",
        "# Our model makes 80% accurate predictions. 80% sounds\n",
        "# good, but note that a model that always guesses\n",
        "# \"median_house_value_is_high is False\" would be 75%\n",
        "# accurate."
      ]
    },
    {
      "cell_type": "markdown",
      "metadata": {
        "id": "C8crSCCVf6gm"
      },
      "source": [
        "## Task 3: Add precision and recall as metrics\n",
        "\n",
        "Relying solely on accuracy, particularly for a class-imbalanced data set (like ours), can be a poor way to judge a classification model.  Modify the code in the following code cell to enable the model to measure not only accuracy but also precision and recall. We have\n",
        "added accuracy and precision; your task is to add recall. See the [TensorFlow Reference](https://www.tensorflow.org/api_docs/python/tf/keras/metrics/Recall) for details.\n",
        "\n"
      ]
    },
    {
      "cell_type": "code",
      "execution_count": 14,
      "metadata": {
        "id": "r-k1MD2XArmO"
      },
      "outputs": [
        {
          "name": "stderr",
          "output_type": "stream",
          "text": [
            "WARNING:absl:At this time, the v2.11+ optimizer `tf.keras.optimizers.RMSprop` runs slowly on M1/M2 Macs, please use the legacy Keras optimizer instead, located at `tf.keras.optimizers.legacy.RMSprop`.\n"
          ]
        },
        {
          "name": "stdout",
          "output_type": "stream",
          "text": [
            "Epoch 1/20\n",
            "170/170 [==============================] - 0s 375us/step - loss: 0.5723 - accuracy: 0.5963 - precision: 0.3723 - recall: 0.8976\n",
            "Epoch 2/20\n",
            "170/170 [==============================] - 0s 342us/step - loss: 0.5249 - accuracy: 0.6434 - precision: 0.4014 - recall: 0.8698\n",
            "Epoch 3/20\n",
            "170/170 [==============================] - 0s 344us/step - loss: 0.4860 - accuracy: 0.6796 - precision: 0.4275 - recall: 0.8319\n",
            "Epoch 4/20\n",
            "170/170 [==============================] - 0s 341us/step - loss: 0.4554 - accuracy: 0.7162 - precision: 0.4603 - recall: 0.7893\n",
            "Epoch 5/20\n",
            "170/170 [==============================] - 0s 341us/step - loss: 0.4328 - accuracy: 0.7424 - precision: 0.4898 - recall: 0.7478\n",
            "Epoch 6/20\n",
            "170/170 [==============================] - 0s 343us/step - loss: 0.4168 - accuracy: 0.7642 - precision: 0.5205 - recall: 0.7111\n",
            "Epoch 7/20\n",
            "170/170 [==============================] - 0s 338us/step - loss: 0.4072 - accuracy: 0.7837 - precision: 0.5545 - recall: 0.6824\n",
            "Epoch 8/20\n",
            "170/170 [==============================] - 0s 341us/step - loss: 0.4018 - accuracy: 0.7946 - precision: 0.5780 - recall: 0.6588\n",
            "Epoch 9/20\n",
            "170/170 [==============================] - 0s 339us/step - loss: 0.3990 - accuracy: 0.8023 - precision: 0.5971 - recall: 0.6416\n",
            "Epoch 10/20\n",
            "170/170 [==============================] - 0s 338us/step - loss: 0.3978 - accuracy: 0.8055 - precision: 0.6070 - recall: 0.6280\n",
            "Epoch 11/20\n",
            "170/170 [==============================] - 0s 340us/step - loss: 0.3972 - accuracy: 0.8074 - precision: 0.6135 - recall: 0.6186\n",
            "Epoch 12/20\n",
            "170/170 [==============================] - 0s 337us/step - loss: 0.3969 - accuracy: 0.8075 - precision: 0.6144 - recall: 0.6167\n",
            "Epoch 13/20\n",
            "170/170 [==============================] - 0s 339us/step - loss: 0.3968 - accuracy: 0.8083 - precision: 0.6164 - recall: 0.6160\n",
            "Epoch 14/20\n",
            "170/170 [==============================] - 0s 341us/step - loss: 0.3967 - accuracy: 0.8084 - precision: 0.6167 - recall: 0.6153\n",
            "Epoch 15/20\n",
            "170/170 [==============================] - 0s 341us/step - loss: 0.3967 - accuracy: 0.8088 - precision: 0.6177 - recall: 0.6155\n",
            "Epoch 16/20\n",
            "170/170 [==============================] - 0s 338us/step - loss: 0.3966 - accuracy: 0.8091 - precision: 0.6188 - recall: 0.6143\n",
            "Epoch 17/20\n",
            "170/170 [==============================] - 0s 341us/step - loss: 0.3966 - accuracy: 0.8097 - precision: 0.6205 - recall: 0.6134\n",
            "Epoch 18/20\n",
            "170/170 [==============================] - 0s 344us/step - loss: 0.3966 - accuracy: 0.8095 - precision: 0.6196 - recall: 0.6148\n",
            "Epoch 19/20\n",
            "170/170 [==============================] - 0s 342us/step - loss: 0.3966 - accuracy: 0.8093 - precision: 0.6192 - recall: 0.6148\n",
            "Epoch 20/20\n",
            "170/170 [==============================] - 0s 340us/step - loss: 0.3966 - accuracy: 0.8093 - precision: 0.6194 - recall: 0.6136\n"
          ]
        },
        {
          "data": {
            "image/png": "[encoded data removed]",
            "text/plain": [
              "<Figure size 640x480 with 1 Axes>"
            ]
          },
          "metadata": {},
          "output_type": "display_data"
        }
      ],
      "source": [
        "# The following variables are the hyperparameters.\n",
        "learning_rate = 0.001\n",
        "epochs = 20\n",
        "batch_size = 100\n",
        "classification_threshold = 0.35\n",
        "label_name = \"median_house_value_is_high\"\n",
        "\n",
        "# Modify the following definition of METRICS to generate\n",
        "# not only accuracy and precision, but also recall:\n",
        "METRICS = [\n",
        "      tf.keras.metrics.BinaryAccuracy(name='accuracy',\n",
        "                                      threshold=classification_threshold),\n",
        "      tf.keras.metrics.Precision(thresholds=classification_threshold,\n",
        "                                 name='precision'\n",
        "                                 ),\n",
        "      tf.keras.metrics.Recall(\n",
        "            thresholds=classification_threshold,\n",
        "            name='recall'\n",
        "      )  # write code here\n",
        "]\n",
        "\n",
        "# Establish the model's topography.\n",
        "my_model = create_model(inputs, learning_rate, METRICS)\n",
        "\n",
        "# Train the model on the training set.\n",
        "epochs, hist = train_model(my_model, train_df_norm, epochs,\n",
        "                           label_name, batch_size)\n",
        "\n",
        "# Plot metrics vs. epochs\n",
        "list_of_metrics_to_plot = ['accuracy', 'precision', 'recall']\n",
        "plot_curve(epochs, hist, list_of_metrics_to_plot)"
      ]
    },
    {
      "cell_type": "code",
      "execution_count": 15,
      "metadata": {
        "cellView": "form",
        "id": "Ax87gOyDBhAu"
      },
      "outputs": [
        {
          "name": "stderr",
          "output_type": "stream",
          "text": [
            "WARNING:absl:At this time, the v2.11+ optimizer `tf.keras.optimizers.RMSprop` runs slowly on M1/M2 Macs, please use the legacy Keras optimizer instead, located at `tf.keras.optimizers.legacy.RMSprop`.\n"
          ]
        },
        {
          "name": "stdout",
          "output_type": "stream",
          "text": [
            "Epoch 1/20\n",
            "170/170 [==============================] - 0s 397us/step - loss: 0.6619 - accuracy: 0.3150 - precision: 0.2547 - recall: 0.9044\n",
            "Epoch 2/20\n",
            "170/170 [==============================] - 0s 353us/step - loss: 0.5800 - accuracy: 0.4165 - precision: 0.2871 - recall: 0.9004\n",
            "Epoch 3/20\n",
            "170/170 [==============================] - 0s 357us/step - loss: 0.5173 - accuracy: 0.6028 - precision: 0.3715 - recall: 0.8533\n",
            "Epoch 4/20\n",
            "170/170 [==============================] - 0s 352us/step - loss: 0.4723 - accuracy: 0.7084 - precision: 0.4521 - recall: 0.7888\n",
            "Epoch 5/20\n",
            "170/170 [==============================] - 0s 354us/step - loss: 0.4421 - accuracy: 0.7528 - precision: 0.5036 - recall: 0.7351\n",
            "Epoch 6/20\n",
            "170/170 [==============================] - 0s 352us/step - loss: 0.4232 - accuracy: 0.7778 - precision: 0.5433 - recall: 0.6948\n",
            "Epoch 7/20\n",
            "170/170 [==============================] - 0s 354us/step - loss: 0.4114 - accuracy: 0.7904 - precision: 0.5684 - recall: 0.6692\n",
            "Epoch 8/20\n",
            "170/170 [==============================] - 0s 351us/step - loss: 0.4044 - accuracy: 0.7994 - precision: 0.5897 - recall: 0.6478\n",
            "Epoch 9/20\n",
            "170/170 [==============================] - 0s 351us/step - loss: 0.4005 - accuracy: 0.8034 - precision: 0.6010 - recall: 0.6339\n",
            "Epoch 10/20\n",
            "170/170 [==============================] - 0s 352us/step - loss: 0.3986 - accuracy: 0.8059 - precision: 0.6092 - recall: 0.6226\n",
            "Epoch 11/20\n",
            "170/170 [==============================] - 0s 355us/step - loss: 0.3976 - accuracy: 0.8071 - precision: 0.6131 - recall: 0.6178\n",
            "Epoch 12/20\n",
            "170/170 [==============================] - 0s 352us/step - loss: 0.3971 - accuracy: 0.8081 - precision: 0.6156 - recall: 0.6169\n",
            "Epoch 13/20\n",
            "170/170 [==============================] - 0s 355us/step - loss: 0.3969 - accuracy: 0.8083 - precision: 0.6167 - recall: 0.6146\n",
            "Epoch 14/20\n",
            "170/170 [==============================] - 0s 351us/step - loss: 0.3967 - accuracy: 0.8089 - precision: 0.6179 - recall: 0.6157\n",
            "Epoch 15/20\n",
            "170/170 [==============================] - 0s 352us/step - loss: 0.3967 - accuracy: 0.8090 - precision: 0.6184 - recall: 0.6148\n",
            "Epoch 16/20\n",
            "170/170 [==============================] - 0s 350us/step - loss: 0.3966 - accuracy: 0.8094 - precision: 0.6196 - recall: 0.6143\n",
            "Epoch 17/20\n",
            "170/170 [==============================] - 0s 351us/step - loss: 0.3966 - accuracy: 0.8092 - precision: 0.6190 - recall: 0.6150\n",
            "Epoch 18/20\n",
            "170/170 [==============================] - 0s 354us/step - loss: 0.3966 - accuracy: 0.8088 - precision: 0.6178 - recall: 0.6157\n",
            "Epoch 19/20\n",
            "170/170 [==============================] - 0s 383us/step - loss: 0.3966 - accuracy: 0.8095 - precision: 0.6200 - recall: 0.6131\n",
            "Epoch 20/20\n",
            "170/170 [==============================] - 0s 371us/step - loss: 0.3966 - accuracy: 0.8087 - precision: 0.6176 - recall: 0.6153\n"
          ]
        },
        {
          "data": {
            "image/png": "[encoded data removed]",
            "text/plain": [
              "<Figure size 640x480 with 1 Axes>"
            ]
          },
          "metadata": {},
          "output_type": "display_data"
        }
      ],
      "source": [
        "#@title Double-click to view the solution for Task 3.\n",
        "\n",
        "# The following variables are the hyperparameters.\n",
        "learning_rate = 0.001\n",
        "epochs = 20\n",
        "batch_size = 100\n",
        "classification_threshold = 0.35\n",
        "label_name = \"median_house_value_is_high\"\n",
        "\n",
        "# Here is the updated definition of METRICS:\n",
        "METRICS = [\n",
        "      tf.keras.metrics.BinaryAccuracy(name='accuracy',\n",
        "                                      threshold=classification_threshold),\n",
        "      tf.keras.metrics.Precision(thresholds=classification_threshold,\n",
        "                                 name='precision'\n",
        "                                 ),\n",
        "      tf.keras.metrics.Recall(thresholds=classification_threshold,\n",
        "                              name=\"recall\"),\n",
        "]\n",
        "\n",
        "# Establish the model's topography.\n",
        "my_model = create_model(inputs, learning_rate, METRICS)\n",
        "\n",
        "# Train the model on the training set.\n",
        "epochs, hist = train_model(my_model, train_df_norm, epochs,\n",
        "                           label_name, batch_size)\n",
        "\n",
        "# Plot metrics vs. epochs\n",
        "list_of_metrics_to_plot = ['accuracy', \"precision\", \"recall\"]\n",
        "plot_curve(epochs, hist, list_of_metrics_to_plot)\n",
        "\n",
        "\n",
        "# The new graphs suggest that precision and recall are\n",
        "# somewhat in conflict. That is, improvements to one of\n",
        "# those metrics may hurt the other metric."
      ]
    },
    {
      "cell_type": "markdown",
      "metadata": {
        "id": "cAsB85iKSXLe"
      },
      "source": [
        "## Task 4: Experiment with the classification threshold (if time permits)\n",
        "\n",
        "Experiment with different values for `classification_threshold` in the code cell within \"Invoke the creating, training, and plotting functions.\"  What value of `classification_threshold` produces the highest accuracy?"
      ]
    },
    {
      "cell_type": "code",
      "execution_count": 16,
      "metadata": {
        "cellView": "form",
        "id": "FLPDYI7Sphnj"
      },
      "outputs": [
        {
          "name": "stderr",
          "output_type": "stream",
          "text": [
            "WARNING:absl:At this time, the v2.11+ optimizer `tf.keras.optimizers.RMSprop` runs slowly on M1/M2 Macs, please use the legacy Keras optimizer instead, located at `tf.keras.optimizers.legacy.RMSprop`.\n"
          ]
        },
        {
          "name": "stdout",
          "output_type": "stream",
          "text": [
            "Epoch 1/20\n",
            "170/170 [==============================] - 0s 393us/step - loss: 0.5513 - accuracy: 0.7471 - precision: 0.4958 - recall: 0.7271\n",
            "Epoch 2/20\n",
            "170/170 [==============================] - 0s 346us/step - loss: 0.5083 - accuracy: 0.7724 - precision: 0.5343 - recall: 0.6908\n",
            "Epoch 3/20\n",
            "170/170 [==============================] - 0s 350us/step - loss: 0.4741 - accuracy: 0.7906 - precision: 0.5712 - recall: 0.6489\n",
            "Epoch 4/20\n",
            "170/170 [==============================] - 0s 346us/step - loss: 0.4477 - accuracy: 0.8075 - precision: 0.6152 - recall: 0.6124\n",
            "Epoch 5/20\n",
            "170/170 [==============================] - 0s 348us/step - loss: 0.4283 - accuracy: 0.8181 - precision: 0.6529 - recall: 0.5802\n",
            "Epoch 6/20\n",
            "170/170 [==============================] - 0s 345us/step - loss: 0.4150 - accuracy: 0.8259 - precision: 0.6924 - recall: 0.5453\n",
            "Epoch 7/20\n",
            "170/170 [==============================] - 0s 346us/step - loss: 0.4066 - accuracy: 0.8312 - precision: 0.7294 - recall: 0.5154\n",
            "Epoch 8/20\n",
            "170/170 [==============================] - 0s 345us/step - loss: 0.4016 - accuracy: 0.8328 - precision: 0.7519 - recall: 0.4938\n",
            "Epoch 9/20\n",
            "170/170 [==============================] - 0s 342us/step - loss: 0.3990 - accuracy: 0.8344 - precision: 0.7664 - recall: 0.4850\n",
            "Epoch 10/20\n",
            "170/170 [==============================] - 0s 345us/step - loss: 0.3977 - accuracy: 0.8358 - precision: 0.7796 - recall: 0.4780\n",
            "Epoch 11/20\n",
            "170/170 [==============================] - 0s 343us/step - loss: 0.3972 - accuracy: 0.8358 - precision: 0.7848 - recall: 0.4723\n",
            "Epoch 12/20\n",
            "170/170 [==============================] - 0s 346us/step - loss: 0.3969 - accuracy: 0.8361 - precision: 0.7869 - recall: 0.4714\n",
            "Epoch 13/20\n",
            "170/170 [==============================] - 0s 344us/step - loss: 0.3967 - accuracy: 0.8362 - precision: 0.7847 - recall: 0.4745\n",
            "Epoch 14/20\n",
            "170/170 [==============================] - 0s 344us/step - loss: 0.3967 - accuracy: 0.8361 - precision: 0.7888 - recall: 0.4695\n",
            "Epoch 15/20\n",
            "170/170 [==============================] - 0s 348us/step - loss: 0.3966 - accuracy: 0.8362 - precision: 0.7847 - recall: 0.4747\n",
            "Epoch 16/20\n",
            "170/170 [==============================] - 0s 345us/step - loss: 0.3966 - accuracy: 0.8361 - precision: 0.7840 - recall: 0.4745\n",
            "Epoch 17/20\n",
            "170/170 [==============================] - 0s 345us/step - loss: 0.3966 - accuracy: 0.8360 - precision: 0.7864 - recall: 0.4716\n",
            "Epoch 18/20\n",
            "170/170 [==============================] - 0s 344us/step - loss: 0.3966 - accuracy: 0.8356 - precision: 0.7837 - recall: 0.4726\n",
            "Epoch 19/20\n",
            "170/170 [==============================] - 0s 347us/step - loss: 0.3966 - accuracy: 0.8360 - precision: 0.7853 - recall: 0.4728\n",
            "Epoch 20/20\n",
            "170/170 [==============================] - 0s 343us/step - loss: 0.3966 - accuracy: 0.8361 - precision: 0.7858 - recall: 0.4726\n"
          ]
        },
        {
          "data": {
            "image/png": "[encoded data removed]",
            "text/plain": [
              "<Figure size 640x480 with 1 Axes>"
            ]
          },
          "metadata": {},
          "output_type": "display_data"
        }
      ],
      "source": [
        "#@title Double-click to view the solution for Task 4.\n",
        "\n",
        "# The following variables are the hyperparameters.\n",
        "learning_rate = 0.001\n",
        "epochs = 20\n",
        "batch_size = 100\n",
        "classification_threshold = 0.52\n",
        "label_name = \"median_house_value_is_high\"\n",
        "\n",
        "# Here is the updated definition of METRICS:\n",
        "METRICS = [\n",
        "      tf.keras.metrics.BinaryAccuracy(name='accuracy',\n",
        "                                      threshold=classification_threshold),\n",
        "      tf.keras.metrics.Precision(thresholds=classification_threshold,\n",
        "                                 name='precision'\n",
        "                                 ),\n",
        "      tf.keras.metrics.Recall(thresholds=classification_threshold,\n",
        "                              name=\"recall\"),\n",
        "]\n",
        "\n",
        "# Establish the model's topography.\n",
        "my_model = create_model(inputs, learning_rate, METRICS)\n",
        "\n",
        "# Train the model on the training set.\n",
        "epochs, hist = train_model(my_model, train_df_norm, epochs,\n",
        "                           label_name, batch_size)\n",
        "\n",
        "# Plot metrics vs. epochs\n",
        "list_of_metrics_to_plot = ['accuracy', \"precision\", \"recall\"]\n",
        "plot_curve(epochs, hist, list_of_metrics_to_plot)\n",
        "\n",
        "# A `classification_threshold` of slightly over 0.5\n",
        "# appears to produce the highest accuracy (about 83%).\n",
        "# Raising the `classification_threshold` to 0.9 drops\n",
        "# accuracy by about 5%.  Lowering the\n",
        "# `classification_threshold` to 0.3 drops accuracy by\n",
        "# about 3%."
      ]
    },
    {
      "cell_type": "markdown",
      "metadata": {
        "id": "XBGRS0Ndduus"
      },
      "source": [
        "## Task 5: Summarize model performance (if time permits)\n",
        "\n",
        "If time permits, add one more metric that attempts to summarize the model's overall performance."
      ]
    },
    {
      "cell_type": "code",
      "execution_count": 18,
      "metadata": {
        "cellView": "form",
        "id": "vwNE6syoFvWe"
      },
      "outputs": [
        {
          "name": "stderr",
          "output_type": "stream",
          "text": [
            "WARNING:absl:At this time, the v2.11+ optimizer `tf.keras.optimizers.RMSprop` runs slowly on M1/M2 Macs, please use the legacy Keras optimizer instead, located at `tf.keras.optimizers.legacy.RMSprop`.\n"
          ]
        },
        {
          "name": "stdout",
          "output_type": "stream",
          "text": [
            "Epoch 1/20\n",
            "170/170 [==============================] - 0s 439us/step - loss: 0.6610 - auc: 0.7017 - f1: 0.4821\n",
            "Epoch 2/20\n",
            "170/170 [==============================] - 0s 410us/step - loss: 0.5825 - auc: 0.7461 - f1: 0.5362\n",
            "Epoch 3/20\n",
            "170/170 [==============================] - 0s 410us/step - loss: 0.5219 - auc: 0.7786 - f1: 0.5650\n",
            "Epoch 4/20\n",
            "170/170 [==============================] - 0s 416us/step - loss: 0.4760 - auc: 0.8020 - f1: 0.5834\n",
            "Epoch 5/20\n",
            "170/170 [==============================] - 0s 406us/step - loss: 0.4433 - auc: 0.8185 - f1: 0.5928\n",
            "Epoch 6/20\n",
            "170/170 [==============================] - 0s 408us/step - loss: 0.4222 - auc: 0.8288 - f1: 0.5992\n",
            "Epoch 7/20\n",
            "170/170 [==============================] - 0s 404us/step - loss: 0.4090 - auc: 0.8344 - f1: 0.6035\n",
            "Epoch 8/20\n",
            "170/170 [==============================] - 0s 405us/step - loss: 0.4022 - auc: 0.8363 - f1: 0.5965\n",
            "Epoch 9/20\n",
            "170/170 [==============================] - 0s 407us/step - loss: 0.3991 - auc: 0.8366 - f1: 0.5926\n",
            "Epoch 10/20\n",
            "170/170 [==============================] - 0s 404us/step - loss: 0.3977 - auc: 0.8368 - f1: 0.5930\n",
            "Epoch 11/20\n",
            "170/170 [==============================] - 0s 402us/step - loss: 0.3971 - auc: 0.8367 - f1: 0.5916\n",
            "Epoch 12/20\n",
            "170/170 [==============================] - 0s 404us/step - loss: 0.3968 - auc: 0.8369 - f1: 0.5902\n",
            "Epoch 13/20\n",
            "170/170 [==============================] - 0s 404us/step - loss: 0.3967 - auc: 0.8367 - f1: 0.5900\n",
            "Epoch 14/20\n",
            "170/170 [==============================] - 0s 400us/step - loss: 0.3967 - auc: 0.8368 - f1: 0.5904\n",
            "Epoch 15/20\n",
            "170/170 [==============================] - 0s 400us/step - loss: 0.3966 - auc: 0.8369 - f1: 0.5910\n",
            "Epoch 16/20\n",
            "170/170 [==============================] - 0s 402us/step - loss: 0.3966 - auc: 0.8370 - f1: 0.5910\n",
            "Epoch 17/20\n",
            "170/170 [==============================] - 0s 400us/step - loss: 0.3966 - auc: 0.8369 - f1: 0.5881\n",
            "Epoch 18/20\n",
            "170/170 [==============================] - 0s 401us/step - loss: 0.3966 - auc: 0.8370 - f1: 0.5903\n",
            "Epoch 19/20\n",
            "170/170 [==============================] - 0s 402us/step - loss: 0.3966 - auc: 0.8369 - f1: 0.5909\n",
            "Epoch 20/20\n",
            "170/170 [==============================] - 0s 405us/step - loss: 0.3966 - auc: 0.8369 - f1: 0.5902\n"
          ]
        },
        {
          "data": {
            "image/png": "[encoded data removed]",
            "text/plain": [
              "<Figure size 640x480 with 1 Axes>"
            ]
          },
          "metadata": {},
          "output_type": "display_data"
        }
      ],
      "source": [
        "#@title Double-click to view the solution for Task 5.\n",
        "\n",
        "# The following variables are the hyperparameters.\n",
        "learning_rate = 0.001\n",
        "epochs = 20\n",
        "batch_size = 100\n",
        "label_name = \"median_house_value_is_high\"\n",
        "\n",
        "# AUC is a reasonable \"summary\" metric for\n",
        "# classification models.\n",
        "# Here is the updated definition of METRICS to\n",
        "# measure AUC:\n",
        "METRICS = [\n",
        "      tf.keras.metrics.AUC(num_thresholds=100, name='auc'),\n",
        "      tf.keras.metrics.F1Score(threshold=classification_threshold, name='f1')\n",
        "]\n",
        "\n",
        "# Establish the model's topography.\n",
        "my_model = create_model(inputs, learning_rate, METRICS)\n",
        "\n",
        "# Train the model on the training set.\n",
        "epochs, hist = train_model(my_model, train_df_norm, epochs,\n",
        "                           label_name, batch_size)\n",
        "\n",
        "# Plot metrics vs. epochs\n",
        "list_of_metrics_to_plot = ['auc', 'f1']\n",
        "plot_curve(epochs, hist, list_of_metrics_to_plot)"
      ]
    }
  ],
  "metadata": {
    "colab": {
      "name": "Binary Classification.ipynb",
      "private_outputs": true,
      "provenance": []
    },
    "kernelspec": {
      "display_name": "Python 3",
      "name": "python3"
    },
    "language_info": {
      "codemirror_mode": {
        "name": "ipython",
        "version": 3
      },
      "file_extension": ".py",
      "mimetype": "text/x-python",
      "name": "python",
      "nbconvert_exporter": "python",
      "pygments_lexer": "ipython3",
      "version": "3.9.6"
    }
  },
  "nbformat": 4,
  "nbformat_minor": 0
}
