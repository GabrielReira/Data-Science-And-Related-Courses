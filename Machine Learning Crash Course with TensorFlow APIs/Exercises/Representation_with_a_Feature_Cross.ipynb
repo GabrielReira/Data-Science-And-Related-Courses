{
  "cells": [
    {
      "cell_type": "code",
      "execution_count": 1,
      "metadata": {
        "cellView": "form",
        "id": "wDlWLbfkJtvu"
      },
      "outputs": [],
      "source": [
        "#@title Copyright 2020 Google LLC. Double-click for license information.\n",
        "# Licensed under the Apache License, Version 2.0 (the \"License\");\n",
        "# you may not use this file except in compliance with the License.\n",
        "# You may obtain a copy of the License at\n",
        "#\n",
        "# https://www.apache.org/licenses/LICENSE-2.0\n",
        "#\n",
        "# Unless required by applicable law or agreed to in writing, software\n",
        "# distributed under the License is distributed on an \"AS IS\" BASIS,\n",
        "# WITHOUT WARRANTIES OR CONDITIONS OF ANY KIND, either express or implied.\n",
        "# See the License for the specific language governing permissions and\n",
        "# limitations under the License."
      ]
    },
    {
      "cell_type": "markdown",
      "metadata": {
        "id": "T4r2z30vJSbA"
      },
      "source": [
        "# Colabs\n",
        "\n",
        "Machine Learning Crash Course uses Colaboratories (Colabs) for all programming exercises. Colab is Google's implementation of [Jupyter Notebook](https://jupyter.org/). For more information about Colabs and how to use them, go to [Welcome to Colaboratory](https://research.google.com/colaboratory)."
      ]
    },
    {
      "cell_type": "markdown",
      "metadata": {
        "id": "TL5y5fY9Jy_x"
      },
      "source": [
        "# Representation with a Feature Cross\n",
        "\n",
        "In this exercise, you'll experiment with different ways to represent features."
      ]
    },
    {
      "cell_type": "markdown",
      "metadata": {
        "id": "RXWoPIezkzgI"
      },
      "source": [
        "## Learning Objectives:\n",
        "\n",
        "After doing this Colab, you'll know how to:\n",
        "\n",
        "  * Use TensorFlow [preprocessing layers](https://www.tensorflow.org/guide/keras/preprocessing_layers) to represent features in different ways.\n",
        "  * Represent features as [bins](https://developers.google.com/machine-learning/glossary/#bucketing).\n",
        "  * Cross bins to create a [feature cross](https://developers.google.com/machine-learning/glossary/#feature_cross)."
      ]
    },
    {
      "cell_type": "markdown",
      "metadata": {
        "id": "lH_g3Hsfkzzb"
      },
      "source": [
        "## The Dataset\n",
        "  \n",
        "Like several of the previous Colabs, this exercise uses the [California Housing Dataset](https://developers.google.com/machine-learning/crash-course/california-housing-data-description)."
      ]
    },
    {
      "cell_type": "markdown",
      "metadata": {
        "id": "5iuw6-JOGf7I"
      },
      "source": [
        "## Call the import statements\n",
        "\n",
        "The following code imports the necessary code to run the code in the rest of this Colaboratory."
      ]
    },
    {
      "cell_type": "code",
      "execution_count": 2,
      "metadata": {
        "id": "9n9_cTveKmse"
      },
      "outputs": [
        {
          "name": "stderr",
          "output_type": "stream",
          "text": [
            "/Users/gabriel/Library/Python/3.9/lib/python/site-packages/urllib3/__init__.py:34: NotOpenSSLWarning: urllib3 v2.0 only supports OpenSSL 1.1.1+, currently the 'ssl' module is compiled with 'LibreSSL 2.8.3'. See: https://github.com/urllib3/urllib3/issues/3020\n",
            "  warnings.warn(\n"
          ]
        },
        {
          "name": "stdout",
          "output_type": "stream",
          "text": [
            "Imported the modules.\n"
          ]
        }
      ],
      "source": [
        "#@title Load the imports\n",
        "\n",
        "import numpy as np\n",
        "import pandas as pd\n",
        "import tensorflow as tf\n",
        "from tensorflow.keras import layers\n",
        "\n",
        "from matplotlib import pyplot as plt\n",
        "\n",
        "# The following lines adjust the granularity of reporting.\n",
        "pd.options.display.max_rows = 10\n",
        "pd.options.display.float_format = \"{:.1f}\".format\n",
        "\n",
        "tf.keras.backend.set_floatx('float32')\n",
        "\n",
        "print(\"Imported the modules.\")"
      ]
    },
    {
      "cell_type": "markdown",
      "metadata": {
        "id": "X_TaJhU4KcuY"
      },
      "source": [
        "## Load, scale, and shuffle the examples\n",
        "\n",
        "The following code cell loads the separate .csv files and creates the following two pandas DataFrames:\n",
        "\n",
        "* `train_df`, which contains the training set\n",
        "* `test_df`, which contains the test set\n",
        "\n",
        "The code cell then scales the `median_house_value` to a more human-friendly range and then shuffles the examples."
      ]
    },
    {
      "cell_type": "code",
      "execution_count": 3,
      "metadata": {
        "id": "JZlvdpyYKx7V"
      },
      "outputs": [],
      "source": [
        "# Load the dataset\n",
        "train_df = pd.read_csv(\"https://download.mlcc.google.com/mledu-datasets/california_housing_train.csv\")\n",
        "test_df = pd.read_csv(\"https://download.mlcc.google.com/mledu-datasets/california_housing_test.csv\")\n",
        "\n",
        "# Scale the labels\n",
        "scale_factor = 1000.0\n",
        "# Scale the training set's label.\n",
        "train_df[\"median_house_value\"] /= scale_factor\n",
        "\n",
        "# Scale the test set's label\n",
        "test_df[\"median_house_value\"] /= scale_factor\n",
        "\n",
        "# Shuffle the examples\n",
        "train_df = train_df.reindex(np.random.permutation(train_df.index))"
      ]
    },
    {
      "cell_type": "markdown",
      "metadata": {
        "id": "8kir8UTUXSV8"
      },
      "source": [
        "## Represent latitude and longitude as floating-point values\n",
        "\n",
        "Previous Colabs trained on only a single feature or a single synthetic feature. By contrast, this exercise trains on two features using **Input layers**.\n",
        "\n",
        "A neighborhood's location is typically the most important feature in determining a house's value. The California Housing dataset provides two features, `latitude` and `longitude` that identify each neighborhood's location.\n",
        "\n",
        "The following code cell defines two [`tf.keras.Input`](https://keras.io/api/layers/core_layers/input/) layers, one to represent `latitude` and another one to represent `longitude`, both as floating-point values.\n",
        "\n",
        "This code cell specifies the features that you'll ultimately train the model on and how each of those features will be represented.\n"
      ]
    },
    {
      "cell_type": "code",
      "execution_count": 4,
      "metadata": {
        "id": "3tmmZIDw4JEC"
      },
      "outputs": [],
      "source": [
        "# Keras Input tensors of float values.\n",
        "inputs = {\n",
        "    'latitude': tf.keras.layers.Input(\n",
        "        shape=(1,), dtype=tf.float32, name='latitude'\n",
        "    ),\n",
        "    'longitude': tf.keras.layers.Input(\n",
        "        shape=(1,), dtype=tf.float32, name='longitude'\n",
        "    )\n",
        "}"
      ]
    },
    {
      "cell_type": "markdown",
      "metadata": {
        "id": "3014ezH3C7jT"
      },
      "source": [
        "## Define functions that create and train a model, and a plotting function\n",
        "\n",
        "The following code defines three functions:\n",
        "\n",
        "  * `create_model`, which tells TensorFlow to build a linear regression model based on the inputs and outputs provided.\n",
        "  * `train_model`, which will ultimately train the model from training set examples.\n",
        "  * `plot_the_loss_curve`, which generates a loss curve."
      ]
    },
    {
      "cell_type": "code",
      "execution_count": 5,
      "metadata": {
        "id": "pedD5GhlDC-y"
      },
      "outputs": [
        {
          "name": "stdout",
          "output_type": "stream",
          "text": [
            "Defined the create_model, train_model, and plot_the_loss_curve functions.\n"
          ]
        }
      ],
      "source": [
        "#@title Define functions to create and train a model, and a plotting function\n",
        "def create_model(my_inputs, my_outputs, my_learning_rate):\n",
        "\n",
        "  model = tf.keras.Model(inputs=my_inputs, outputs=my_outputs)\n",
        "\n",
        "  # Construct the layers into a model that TensorFlow can execute.\n",
        "  model.compile(optimizer=tf.keras.optimizers.experimental.RMSprop(\n",
        "      learning_rate=my_learning_rate),\n",
        "      loss=\"mean_squared_error\",\n",
        "      metrics=[tf.keras.metrics.RootMeanSquaredError()])\n",
        "\n",
        "  return model\n",
        "\n",
        "\n",
        "def train_model(model, dataset, epochs, batch_size, label_name):\n",
        "  \"\"\"Feed a dataset into the model in order to train it.\"\"\"\n",
        "\n",
        "  features = {name:np.array(value) for name, value in dataset.items()}\n",
        "  label = np.array(features.pop(label_name))\n",
        "  history = model.fit(x=features, y=label, batch_size=batch_size,\n",
        "                      epochs=epochs, shuffle=True)\n",
        "\n",
        "  # The list of epochs is stored separately from the rest of history.\n",
        "  epochs = history.epoch\n",
        "\n",
        "  # Isolate the mean absolute error for each epoch.\n",
        "  hist = pd.DataFrame(history.history)\n",
        "  rmse = hist[\"root_mean_squared_error\"]\n",
        "\n",
        "  return epochs, rmse\n",
        "\n",
        "\n",
        "def plot_the_loss_curve(epochs, rmse):\n",
        "  \"\"\"Plot a curve of loss vs. epoch.\"\"\"\n",
        "\n",
        "  plt.figure()\n",
        "  plt.xlabel(\"Epoch\")\n",
        "  plt.ylabel(\"Root Mean Squared Error\")\n",
        "\n",
        "  plt.plot(epochs, rmse, label=\"Loss\")\n",
        "  plt.legend()\n",
        "  plt.ylim([rmse.min()*0.94, rmse.max()* 1.05])\n",
        "  plt.show()\n",
        "\n",
        "print(\"Defined the create_model, train_model, and plot_the_loss_curve functions.\")"
      ]
    },
    {
      "cell_type": "markdown",
      "metadata": {
        "id": "D-IXYVfvM4gD"
      },
      "source": [
        "## Train the model with floating-point representations\n",
        "\n",
        "The following code cell calls the functions you just created to train, plot, and evaluate a model."
      ]
    },
    {
      "cell_type": "code",
      "execution_count": 6,
      "metadata": {
        "cellView": "both",
        "id": "nj3v5EKQFY8s"
      },
      "outputs": [
        {
          "name": "stderr",
          "output_type": "stream",
          "text": [
            "WARNING:absl:At this time, the v2.11+ optimizer `tf.keras.optimizers.RMSprop` runs slowly on M1/M2 Macs, please use the legacy Keras optimizer instead, located at `tf.keras.optimizers.legacy.RMSprop`.\n"
          ]
        },
        {
          "name": "stdout",
          "output_type": "stream",
          "text": [
            "Epoch 1/30\n",
            "  1/170 [..............................] - ETA: 18s - loss: 84506.9219 - root_mean_squared_error: 290.7007"
          ]
        },
        {
          "name": "stderr",
          "output_type": "stream",
          "text": [
            "/Users/gabriel/Library/Python/3.9/lib/python/site-packages/keras/src/engine/functional.py:642: UserWarning: Input dict contained keys ['housing_median_age', 'total_rooms', 'total_bedrooms', 'population', 'households', 'median_income'] which did not match any model input. They will be ignored by the model.\n",
            "  inputs = self._flatten_to_reference_inputs(inputs)\n"
          ]
        },
        {
          "name": "stdout",
          "output_type": "stream",
          "text": [
            "170/170 [==============================] - 0s 360us/step - loss: 18317.9668 - root_mean_squared_error: 135.3439\n",
            "Epoch 2/30\n",
            "170/170 [==============================] - 0s 316us/step - loss: 13723.9688 - root_mean_squared_error: 117.1493\n",
            "Epoch 3/30\n",
            "170/170 [==============================] - 0s 315us/step - loss: 13651.4854 - root_mean_squared_error: 116.8396\n",
            "Epoch 4/30\n",
            "170/170 [==============================] - 0s 313us/step - loss: 13594.9170 - root_mean_squared_error: 116.5972\n",
            "Epoch 5/30\n",
            "170/170 [==============================] - 0s 312us/step - loss: 13525.8320 - root_mean_squared_error: 116.3006\n",
            "Epoch 6/30\n",
            "170/170 [==============================] - 0s 312us/step - loss: 13469.4141 - root_mean_squared_error: 116.0578\n",
            "Epoch 7/30\n",
            "170/170 [==============================] - 0s 310us/step - loss: 13430.3271 - root_mean_squared_error: 115.8893\n",
            "Epoch 8/30\n",
            "170/170 [==============================] - 0s 308us/step - loss: 13382.9023 - root_mean_squared_error: 115.6845\n",
            "Epoch 9/30\n",
            "170/170 [==============================] - 0s 309us/step - loss: 13336.5889 - root_mean_squared_error: 115.4841\n",
            "Epoch 10/30\n",
            "170/170 [==============================] - 0s 309us/step - loss: 13288.4092 - root_mean_squared_error: 115.2754\n",
            "Epoch 11/30\n",
            "170/170 [==============================] - 0s 311us/step - loss: 13267.9414 - root_mean_squared_error: 115.1866\n",
            "Epoch 12/30\n",
            "170/170 [==============================] - 0s 308us/step - loss: 13219.8027 - root_mean_squared_error: 114.9774\n",
            "Epoch 13/30\n",
            "170/170 [==============================] - 0s 308us/step - loss: 13197.3496 - root_mean_squared_error: 114.8797\n",
            "Epoch 14/30\n",
            "170/170 [==============================] - 0s 311us/step - loss: 13155.9609 - root_mean_squared_error: 114.6994\n",
            "Epoch 15/30\n",
            "170/170 [==============================] - 0s 310us/step - loss: 13140.7988 - root_mean_squared_error: 114.6333\n",
            "Epoch 16/30\n",
            "170/170 [==============================] - 0s 308us/step - loss: 13103.1006 - root_mean_squared_error: 114.4688\n",
            "Epoch 17/30\n",
            "170/170 [==============================] - 0s 309us/step - loss: 13086.1885 - root_mean_squared_error: 114.3949\n",
            "Epoch 18/30\n",
            "170/170 [==============================] - 0s 308us/step - loss: 13066.9570 - root_mean_squared_error: 114.3108\n",
            "Epoch 19/30\n",
            "170/170 [==============================] - 0s 306us/step - loss: 13032.9277 - root_mean_squared_error: 114.1618\n",
            "Epoch 20/30\n",
            "170/170 [==============================] - 0s 309us/step - loss: 13015.0430 - root_mean_squared_error: 114.0835\n",
            "Epoch 21/30\n",
            "170/170 [==============================] - 0s 307us/step - loss: 12990.5625 - root_mean_squared_error: 113.9762\n",
            "Epoch 22/30\n",
            "170/170 [==============================] - 0s 307us/step - loss: 12986.3271 - root_mean_squared_error: 113.9576\n",
            "Epoch 23/30\n",
            "170/170 [==============================] - 0s 308us/step - loss: 12966.2432 - root_mean_squared_error: 113.8694\n",
            "Epoch 24/30\n",
            "170/170 [==============================] - 0s 307us/step - loss: 12958.6582 - root_mean_squared_error: 113.8361\n",
            "Epoch 25/30\n",
            "170/170 [==============================] - 0s 308us/step - loss: 12938.4463 - root_mean_squared_error: 113.7473\n",
            "Epoch 26/30\n",
            "170/170 [==============================] - 0s 307us/step - loss: 12926.5625 - root_mean_squared_error: 113.6950\n",
            "Epoch 27/30\n",
            "170/170 [==============================] - 0s 308us/step - loss: 12908.7744 - root_mean_squared_error: 113.6168\n",
            "Epoch 28/30\n",
            "170/170 [==============================] - 0s 309us/step - loss: 12901.0977 - root_mean_squared_error: 113.5830\n",
            "Epoch 29/30\n",
            "170/170 [==============================] - 0s 308us/step - loss: 12880.9355 - root_mean_squared_error: 113.4942\n",
            "Epoch 30/30\n",
            "170/170 [==============================] - 0s 310us/step - loss: 12878.6982 - root_mean_squared_error: 113.4844\n",
            "Model: \"model\"\n",
            "__________________________________________________________________________________________________\n",
            " Layer (type)                Output Shape                 Param #   Connected to                  \n",
            "==================================================================================================\n",
            " latitude (InputLayer)       [(None, 1)]                  0         []                            \n",
            "                                                                                                  \n",
            " longitude (InputLayer)      [(None, 1)]                  0         []                            \n",
            "                                                                                                  \n",
            " concatenate (Concatenate)   (None, 2)                    0         ['latitude[0][0]',            \n",
            "                                                                     'longitude[0][0]']           \n",
            "                                                                                                  \n",
            " dense_layer (Dense)         (None, 1)                    3         ['concatenate[0][0]']         \n",
            "                                                                                                  \n",
            "==================================================================================================\n",
            "Total params: 3 (12.00 Byte)\n",
            "Trainable params: 3 (12.00 Byte)\n",
            "Non-trainable params: 0 (0.00 Byte)\n",
            "__________________________________________________________________________________________________\n"
          ]
        },
        {
          "data": {
            "image/png": "[encoded data removed]",
            "text/plain": [
              "<Figure size 640x480 with 1 Axes>"
            ]
          },
          "metadata": {},
          "output_type": "display_data"
        },
        {
          "name": "stdout",
          "output_type": "stream",
          "text": [
            "\n",
            ": Evaluate the new model against the test set:\n",
            "30/30 [==============================] - 0s 397us/step - loss: 12212.4336 - root_mean_squared_error: 110.5099\n"
          ]
        },
        {
          "data": {
            "text/plain": [
              "[12212.43359375, 110.50988006591797]"
            ]
          },
          "execution_count": 6,
          "metadata": {},
          "output_type": "execute_result"
        }
      ],
      "source": [
        "# The following variables are the hyperparameters.\n",
        "learning_rate = 0.05\n",
        "epochs = 30\n",
        "batch_size = 100\n",
        "label_name = 'median_house_value'\n",
        "\n",
        "# The two Input layers are concatenated so they can be passed as a single\n",
        "# tensor to a Dense layer.\n",
        "preprocessing_layer = tf.keras.layers.Concatenate()(inputs.values())\n",
        "\n",
        "dense_output = layers.Dense(units=1, name='dense_layer')(preprocessing_layer)\n",
        "\n",
        "outputs = {\n",
        "  'dense_output': dense_output\n",
        "}\n",
        "\n",
        "# Create and compile the model's topography.\n",
        "my_model = create_model(inputs, outputs, learning_rate)\n",
        "\n",
        "# To view a PNG of this model's layers, uncomment the call to\n",
        "# `tf.keras.utils.plot_model` below. After running this code cell, click\n",
        "# the file folder on the left, then the `my_model.png` file.\n",
        "# tf.keras.utils.plot_model(my_model, \"my_model.png\", show_shapes=True)\n",
        "\n",
        "# Train the model on the training set.\n",
        "epochs, rmse = train_model(my_model, train_df, epochs, batch_size, label_name)\n",
        "\n",
        "# Print out the model summary.\n",
        "my_model.summary(expand_nested=True)\n",
        "\n",
        "plot_the_loss_curve(epochs, rmse)\n",
        "\n",
        "print(\"\\n: Evaluate the new model against the test set:\")\n",
        "test_features = {name:np.array(value) for name, value in test_df.items()}\n",
        "test_label = np.array(test_features.pop(label_name))\n",
        "my_model.evaluate(x=test_features, y=test_label, batch_size=batch_size)"
      ]
    },
    {
      "cell_type": "markdown",
      "metadata": {
        "id": "dbyWNS6T2fIT"
      },
      "source": [
        "## Task 1: Why aren't floating-point values a good way to represent latitude and longitude?\n",
        "\n",
        "Are floating-point values a good way to represent `latitude` and `longitude`?"
      ]
    },
    {
      "cell_type": "code",
      "execution_count": 7,
      "metadata": {
        "cellView": "form",
        "id": "VJLDCu5M2hXX"
      },
      "outputs": [],
      "source": [
        "#@title Double-click to view an answer to Task 1.\n",
        "\n",
        "# No. Representing latitude and longitude as\n",
        "# floating-point values does not have much\n",
        "# predictive power. For example, neighborhoods at\n",
        "# latitude 35 are not 36/35 more valuable\n",
        "# (or 35/36 less valuable) than houses at\n",
        "# latitude 36.\n",
        "\n",
        "# Representing `latitude` and `longitude` as\n",
        "# floating-point values provides almost no\n",
        "# predictive power. We're only using the raw values\n",
        "# to establish a baseline for future experiments\n",
        "# with better representations."
      ]
    },
    {
      "cell_type": "markdown",
      "metadata": {
        "id": "Na8TPoPYx-0k"
      },
      "source": [
        "## Represent latitude and longitude in buckets\n",
        "\n",
        "The following code cell represents latitude and longitude in buckets (bins). Each bin represents all the neighborhoods within a single degree. For example,\n",
        "neighborhoods at latitude 35.4 and 35.8 are in the same bucket, but neighborhoods in latitude 35.4 and 36.2 are in different buckets.\n",
        "\n",
        "The model will learn a separate weight for each bucket. For example, the model will learn one weight for all the neighborhoods in the \"35\" bin, a different weight for neighborhoods in the \"36\" bin, and so on. This representation will create approximately 20 buckets:\n",
        "\n",
        "  * 10 buckets for `latitude`.\n",
        "  * 10 buckets for `longitude`."
      ]
    },
    {
      "cell_type": "code",
      "execution_count": 8,
      "metadata": {
        "id": "WLTUFiaUyIpx"
      },
      "outputs": [
        {
          "name": "stdout",
          "output_type": "stream",
          "text": [
            "latitude boundaries: [32.0, 33.0, 34.0, 35.0, 36.0, 37.0, 38.0, 39.0, 40.0]\n",
            "longitude boundaries: [-124.0, -123.0, -122.0, -121.0, -120.0, -119.0, -118.0, -117.0, -116.0, -115.0]\n"
          ]
        }
      ],
      "source": [
        "resolution_in_degrees = 1.0\n",
        "\n",
        "# Create a list of numbers representing the bucket boundaries for latitude.\n",
        "latitude_boundaries = list(np.arange(\n",
        "    int(min(train_df['latitude'])),\n",
        "    int(max(train_df['latitude'])),\n",
        "    resolution_in_degrees\n",
        "))\n",
        "print(\"latitude boundaries: \" + str(latitude_boundaries))\n",
        "\n",
        "# Create a Discretization layer to separate the latitude data into buckets.\n",
        "latitude = tf.keras.layers.Discretization(\n",
        "    bin_boundaries=latitude_boundaries,\n",
        "    name='discretization_latitude')(inputs.get('latitude')\n",
        ")\n",
        "\n",
        "# Number of categories is the length of latitude_boundaries plus one.\n",
        "latitude = tf.keras.layers.CategoryEncoding(\n",
        "    num_tokens=len(latitude_boundaries) + 1,\n",
        "    output_mode='one_hot',\n",
        "    name='category_encoding_latitude'\n",
        ")(latitude)\n",
        "\n",
        "# Create a list of numbers representing the bucket boundaries for longitude.\n",
        "longitude_boundaries = list(np.arange(\n",
        "    int(min(train_df['longitude'])),\n",
        "    int(max(train_df['longitude'])),\n",
        "    resolution_in_degrees\n",
        "))\n",
        "\n",
        "print(\"longitude boundaries: \" + str(longitude_boundaries))\n",
        "\n",
        "# Create a Discretization layer to separate the longitude data into buckets.\n",
        "longitude = tf.keras.layers.Discretization(\n",
        "    bin_boundaries=longitude_boundaries,\n",
        "    name='discretization_longitude'\n",
        ")(inputs.get('longitude'))\n",
        "\n",
        "# Number of categories is the length of longitude_boundaries plus one.\n",
        "longitude = tf.keras.layers.CategoryEncoding(\n",
        "    num_tokens=len(longitude_boundaries) + 1,\n",
        "    output_mode='one_hot',\n",
        "    name='category_encoding_longitude'\n",
        ")(longitude)\n",
        "\n",
        "# Concatenate latitude and longitude into a single tensor as input for the Dense layer.\n",
        "concatenate_layer = tf.keras.layers.Concatenate()([latitude, longitude])\n",
        "\n",
        "dense_output = layers.Dense(units=1, name='dense_layer')(concatenate_layer)\n",
        "\n",
        "# Define an output dictionary we'll send to the model constructor.\n",
        "outputs = {\n",
        "  'dense_output': dense_output\n",
        "}"
      ]
    },
    {
      "cell_type": "markdown",
      "metadata": {
        "id": "aZsFzoPQ4pFm"
      },
      "source": [
        "## Train the model with bucket representations\n",
        "\n",
        "Run the following code cell to train the model with bucket representations rather than floating-point representations:"
      ]
    },
    {
      "cell_type": "code",
      "execution_count": 9,
      "metadata": {
        "id": "UnDrghxBzLvD"
      },
      "outputs": [
        {
          "name": "stderr",
          "output_type": "stream",
          "text": [
            "WARNING:absl:At this time, the v2.11+ optimizer `tf.keras.optimizers.RMSprop` runs slowly on M1/M2 Macs, please use the legacy Keras optimizer instead, located at `tf.keras.optimizers.legacy.RMSprop`.\n"
          ]
        },
        {
          "name": "stdout",
          "output_type": "stream",
          "text": [
            "Epoch 1/35\n",
            "170/170 [==============================] - 0s 374us/step - loss: 51947.5117 - root_mean_squared_error: 227.9200\n",
            "Epoch 2/35\n",
            "170/170 [==============================] - 0s 339us/step - loss: 44566.1953 - root_mean_squared_error: 211.1071\n",
            "Epoch 3/35\n",
            "170/170 [==============================] - 0s 340us/step - loss: 38015.2578 - root_mean_squared_error: 194.9750\n",
            "Epoch 4/35\n",
            "170/170 [==============================] - 0s 338us/step - loss: 32203.6777 - root_mean_squared_error: 179.4538\n",
            "Epoch 5/35\n",
            "170/170 [==============================] - 0s 338us/step - loss: 27201.4062 - root_mean_squared_error: 164.9285\n",
            "Epoch 6/35\n",
            "170/170 [==============================] - 0s 338us/step - loss: 22942.5391 - root_mean_squared_error: 151.4679\n",
            "Epoch 7/35\n",
            "170/170 [==============================] - 0s 341us/step - loss: 19449.2168 - root_mean_squared_error: 139.4604\n",
            "Epoch 8/35\n",
            "170/170 [==============================] - 0s 336us/step - loss: 16632.0039 - root_mean_squared_error: 128.9651\n",
            "Epoch 9/35\n",
            "170/170 [==============================] - 0s 341us/step - loss: 14498.0127 - root_mean_squared_error: 120.4077\n",
            "Epoch 10/35\n",
            "170/170 [==============================] - 0s 367us/step - loss: 12968.0977 - root_mean_squared_error: 113.8776\n",
            "Epoch 11/35\n",
            "170/170 [==============================] - 0s 339us/step - loss: 11924.3818 - root_mean_squared_error: 109.1988\n",
            "Epoch 12/35\n",
            "170/170 [==============================] - 0s 339us/step - loss: 11309.4893 - root_mean_squared_error: 106.3461\n",
            "Epoch 13/35\n",
            "170/170 [==============================] - 0s 341us/step - loss: 10978.4541 - root_mean_squared_error: 104.7781\n",
            "Epoch 14/35\n",
            "170/170 [==============================] - 0s 338us/step - loss: 10789.2236 - root_mean_squared_error: 103.8712\n",
            "Epoch 15/35\n",
            "170/170 [==============================] - 0s 339us/step - loss: 10673.8418 - root_mean_squared_error: 103.3143\n",
            "Epoch 16/35\n",
            "170/170 [==============================] - 0s 338us/step - loss: 10600.1162 - root_mean_squared_error: 102.9569\n",
            "Epoch 17/35\n",
            "170/170 [==============================] - 0s 336us/step - loss: 10551.6357 - root_mean_squared_error: 102.7212\n",
            "Epoch 18/35\n",
            "170/170 [==============================] - 0s 338us/step - loss: 10518.0215 - root_mean_squared_error: 102.5574\n",
            "Epoch 19/35\n",
            "170/170 [==============================] - 0s 339us/step - loss: 10494.3154 - root_mean_squared_error: 102.4418\n",
            "Epoch 20/35\n",
            "170/170 [==============================] - 0s 337us/step - loss: 10475.9395 - root_mean_squared_error: 102.3520\n",
            "Epoch 21/35\n",
            "170/170 [==============================] - 0s 358us/step - loss: 10461.7529 - root_mean_squared_error: 102.2827\n",
            "Epoch 22/35\n",
            "170/170 [==============================] - 0s 341us/step - loss: 10448.6748 - root_mean_squared_error: 102.2188\n",
            "Epoch 23/35\n",
            "170/170 [==============================] - 0s 339us/step - loss: 10436.7129 - root_mean_squared_error: 102.1602\n",
            "Epoch 24/35\n",
            "170/170 [==============================] - 0s 338us/step - loss: 10426.8350 - root_mean_squared_error: 102.1119\n",
            "Epoch 25/35\n",
            "170/170 [==============================] - 0s 339us/step - loss: 10417.0000 - root_mean_squared_error: 102.0637\n",
            "Epoch 26/35\n",
            "170/170 [==============================] - 0s 338us/step - loss: 10408.0039 - root_mean_squared_error: 102.0196\n",
            "Epoch 27/35\n",
            "170/170 [==============================] - 0s 338us/step - loss: 10399.0020 - root_mean_squared_error: 101.9755\n",
            "Epoch 28/35\n",
            "170/170 [==============================] - 0s 339us/step - loss: 10390.7656 - root_mean_squared_error: 101.9351\n",
            "Epoch 29/35\n",
            "170/170 [==============================] - 0s 336us/step - loss: 10382.6270 - root_mean_squared_error: 101.8952\n",
            "Epoch 30/35\n",
            "170/170 [==============================] - 0s 333us/step - loss: 10375.2910 - root_mean_squared_error: 101.8592\n",
            "Epoch 31/35\n",
            "170/170 [==============================] - 0s 334us/step - loss: 10367.9365 - root_mean_squared_error: 101.8231\n",
            "Epoch 32/35\n",
            "170/170 [==============================] - 0s 337us/step - loss: 10360.9795 - root_mean_squared_error: 101.7889\n",
            "Epoch 33/35\n",
            "170/170 [==============================] - 0s 337us/step - loss: 10353.7363 - root_mean_squared_error: 101.7533\n",
            "Epoch 34/35\n",
            "170/170 [==============================] - 0s 337us/step - loss: 10346.8359 - root_mean_squared_error: 101.7194\n",
            "Epoch 35/35\n",
            "170/170 [==============================] - 0s 340us/step - loss: 10340.4189 - root_mean_squared_error: 101.6879\n",
            "Model: \"model_1\"\n",
            "__________________________________________________________________________________________________\n",
            " Layer (type)                Output Shape                 Param #   Connected to                  \n",
            "==================================================================================================\n",
            " latitude (InputLayer)       [(None, 1)]                  0         []                            \n",
            "                                                                                                  \n",
            " longitude (InputLayer)      [(None, 1)]                  0         []                            \n",
            "                                                                                                  \n",
            " discretization_latitude (D  (None, 1)                    0         ['latitude[0][0]']            \n",
            " iscretization)                                                                                   \n",
            "                                                                                                  \n",
            " discretization_longitude (  (None, 1)                    0         ['longitude[0][0]']           \n",
            " Discretization)                                                                                  \n",
            "                                                                                                  \n",
            " category_encoding_latitude  (None, 10)                   0         ['discretization_latitude[0][0\n",
            "  (CategoryEncoding)                                                ]']                           \n",
            "                                                                                                  \n",
            " category_encoding_longitud  (None, 11)                   0         ['discretization_longitude[0][\n",
            " e (CategoryEncoding)                                               0]']                          \n",
            "                                                                                                  \n",
            " concatenate_1 (Concatenate  (None, 21)                   0         ['category_encoding_latitude[0\n",
            " )                                                                  ][0]',                        \n",
            "                                                                     'category_encoding_longitude[\n",
            "                                                                    0][0]']                       \n",
            "                                                                                                  \n",
            " dense_layer (Dense)         (None, 1)                    22        ['concatenate_1[0][0]']       \n",
            "                                                                                                  \n",
            "==================================================================================================\n",
            "Total params: 22 (88.00 Byte)\n",
            "Trainable params: 22 (88.00 Byte)\n",
            "Non-trainable params: 0 (0.00 Byte)\n",
            "__________________________________________________________________________________________________\n"
          ]
        },
        {
          "data": {
            "image/png": "[encoded data removed]",
            "text/plain": [
              "<Figure size 640x480 with 1 Axes>"
            ]
          },
          "metadata": {},
          "output_type": "display_data"
        },
        {
          "name": "stdout",
          "output_type": "stream",
          "text": [
            "\n",
            ": Evaluate the new model against the test set:\n",
            "30/30 [==============================] - 0s 467us/step - loss: 10197.4805 - root_mean_squared_error: 100.9826\n"
          ]
        },
        {
          "data": {
            "text/plain": [
              "[10197.48046875, 100.98257446289062]"
            ]
          },
          "execution_count": 9,
          "metadata": {},
          "output_type": "execute_result"
        }
      ],
      "source": [
        "# The following variables are the hyperparameters.\n",
        "learning_rate = 0.04\n",
        "epochs = 35\n",
        "\n",
        "# Build the model.\n",
        "my_model = create_model(inputs, outputs, learning_rate)\n",
        "\n",
        "# Train the model on the training set.\n",
        "epochs, rmse = train_model(my_model, train_df, epochs, batch_size, label_name)\n",
        "\n",
        "# Print out the model summary.\n",
        "my_model.summary(expand_nested=True)\n",
        "\n",
        "plot_the_loss_curve(epochs, rmse)\n",
        "\n",
        "print(\"\\n: Evaluate the new model against the test set:\")\n",
        "my_model.evaluate(x=test_features, y=test_label, batch_size=batch_size)"
      ]
    },
    {
      "cell_type": "markdown",
      "metadata": {
        "id": "Wb-bIKsN5M48"
      },
      "source": [
        "## Task 2: Did buckets outperform floating-point representations?\n",
        "\n",
        "Compare the model's `root_mean_squared_error` values for the two representations (floating-point vs. buckets)?  Which model produced lower losses?"
      ]
    },
    {
      "cell_type": "code",
      "execution_count": 10,
      "metadata": {
        "cellView": "form",
        "id": "6sUlX1335UCb"
      },
      "outputs": [],
      "source": [
        "#@title Double-click for an answer to Task 2.\n",
        "\n",
        "# Bucket representation outperformed\n",
        "# floating-point representations.\n",
        "# However, you can still do far better."
      ]
    },
    {
      "cell_type": "markdown",
      "metadata": {
        "id": "ab6-bhUvxbTL"
      },
      "source": [
        "## Task 3: What is a better way to represent location?\n",
        "\n",
        "Buckets are a big improvement over floating-point values. Can you identify an even better way to identify location with `latitude` and `longitude`?"
      ]
    },
    {
      "cell_type": "code",
      "execution_count": 11,
      "metadata": {
        "cellView": "form",
        "id": "5no5X0OFCwf7"
      },
      "outputs": [],
      "source": [
        "#@title Double-click to view an answer to Task 3.\n",
        "\n",
        "# Representing location as a feature cross should\n",
        "# produce better results.\n",
        "\n",
        "# In Task 2, you represented latitude in\n",
        "# one-dimensional buckets and longitude in\n",
        "# another series of one-dimensional buckets.\n",
        "# Real-world locations, however, exist in\n",
        "# two dimensions. Therefore, you should\n",
        "# represent location as a two-dimensional feature\n",
        "# cross. That is, you'll cross the 10 or so latitude\n",
        "# buckets with the 10 or so longitude buckets to\n",
        "# create a grid of 100 cells.\n",
        "\n",
        "# The model will learn separate weights for each\n",
        "# of the cells."
      ]
    },
    {
      "cell_type": "markdown",
      "metadata": {
        "id": "T1ulCDiyGB6g"
      },
      "source": [
        "## Represent location as a feature cross\n",
        "\n",
        "The following code cell represents location as a feature cross. That is, the following code cell first creates buckets and then crosses the latitude and longitude features using a `HashedCrossing` layer.\n",
        "\n"
      ]
    },
    {
      "cell_type": "code",
      "execution_count": 12,
      "metadata": {
        "cellView": "both",
        "id": "HunsuEzqn21s"
      },
      "outputs": [],
      "source": [
        "resolution_in_degrees = 1.0\n",
        "\n",
        "# Create a list of numbers representing the bucket boundaries for latitude.\n",
        "latitude_boundaries = list(np.arange(\n",
        "    int(min(train_df['latitude'])),\n",
        "    int(max(train_df['latitude'])),\n",
        "    resolution_in_degrees\n",
        "))\n",
        "\n",
        "# Create a Discretization layer to separate the latitude data into buckets.\n",
        "latitude = tf.keras.layers.Discretization(\n",
        "    bin_boundaries=latitude_boundaries,\n",
        "    name='discretization_latitude'\n",
        ")(inputs.get('latitude'))\n",
        "\n",
        "# Create a list of numbers representing the bucket boundaries for longitude.\n",
        "longitude_boundaries = list(np.arange(\n",
        "    int(min(train_df['longitude'])),\n",
        "    int(max(train_df['longitude'])),\n",
        "    resolution_in_degrees\n",
        "))\n",
        "\n",
        "# Create a Discretization layer to separate the longitude data into buckets.\n",
        "longitude = tf.keras.layers.Discretization(\n",
        "    bin_boundaries=longitude_boundaries,\n",
        "    name='discretization_longitude')(inputs.get('longitude')\n",
        ")\n",
        "\n",
        "# Cross the latitude and longitude features into a single one-hot vector.\n",
        "feature_cross = tf.keras.layers.HashedCrossing(\n",
        "    num_bins=len(latitude_boundaries) * len(longitude_boundaries),\n",
        "    output_mode='one_hot',\n",
        "    name='cross_latitude_longitude'\n",
        ")([latitude, longitude])\n",
        "\n",
        "dense_output = layers.Dense(units=1, name='dense_layer')(feature_cross)\n",
        "\n",
        "# Define an output dictionary we'll send to the model constructor.\n",
        "outputs = {\n",
        "  'dense_output': dense_output\n",
        "}"
      ]
    },
    {
      "cell_type": "markdown",
      "metadata": {
        "id": "akRgNnnH3VXJ"
      },
      "source": [
        "Invoke the following code cell to test your solution for Task 3. Please ignore the warning messages."
      ]
    },
    {
      "cell_type": "code",
      "execution_count": 13,
      "metadata": {
        "id": "qn2PRDBEr5ni"
      },
      "outputs": [
        {
          "name": "stderr",
          "output_type": "stream",
          "text": [
            "WARNING:absl:At this time, the v2.11+ optimizer `tf.keras.optimizers.RMSprop` runs slowly on M1/M2 Macs, please use the legacy Keras optimizer instead, located at `tf.keras.optimizers.legacy.RMSprop`.\n"
          ]
        },
        {
          "name": "stdout",
          "output_type": "stream",
          "text": [
            "Epoch 1/35\n",
            "170/170 [==============================] - 0s 379us/step - loss: 53518.6992 - root_mean_squared_error: 231.3411\n",
            "Epoch 2/35\n",
            "170/170 [==============================] - 0s 350us/step - loss: 48496.2188 - root_mean_squared_error: 220.2186\n",
            "Epoch 3/35\n",
            "170/170 [==============================] - 0s 349us/step - loss: 43810.9570 - root_mean_squared_error: 209.3107\n",
            "Epoch 4/35\n",
            "170/170 [==============================] - 0s 348us/step - loss: 39453.0703 - root_mean_squared_error: 198.6280\n",
            "Epoch 5/35\n",
            "170/170 [==============================] - 0s 347us/step - loss: 35447.3516 - root_mean_squared_error: 188.2747\n",
            "Epoch 6/35\n",
            "170/170 [==============================] - 0s 349us/step - loss: 31759.4395 - root_mean_squared_error: 178.2118\n",
            "Epoch 7/35\n",
            "170/170 [==============================] - 0s 350us/step - loss: 28408.5664 - root_mean_squared_error: 168.5484\n",
            "Epoch 8/35\n",
            "170/170 [==============================] - 0s 347us/step - loss: 25370.6016 - root_mean_squared_error: 159.2815\n",
            "Epoch 9/35\n",
            "170/170 [==============================] - 0s 345us/step - loss: 22658.4238 - root_mean_squared_error: 150.5272\n",
            "Epoch 10/35\n",
            "170/170 [==============================] - 0s 346us/step - loss: 20250.4258 - root_mean_squared_error: 142.3040\n",
            "Epoch 11/35\n",
            "170/170 [==============================] - 0s 347us/step - loss: 18126.9336 - root_mean_squared_error: 134.6363\n",
            "Epoch 12/35\n",
            "170/170 [==============================] - 0s 346us/step - loss: 16298.4824 - root_mean_squared_error: 127.6655\n",
            "Epoch 13/35\n",
            "170/170 [==============================] - 0s 348us/step - loss: 14743.3633 - root_mean_squared_error: 121.4222\n",
            "Epoch 14/35\n",
            "170/170 [==============================] - 0s 346us/step - loss: 13444.1953 - root_mean_squared_error: 115.9491\n",
            "Epoch 15/35\n",
            "170/170 [==============================] - 0s 349us/step - loss: 12381.9619 - root_mean_squared_error: 111.2743\n",
            "Epoch 16/35\n",
            "170/170 [==============================] - 0s 347us/step - loss: 11546.6279 - root_mean_squared_error: 107.4552\n",
            "Epoch 17/35\n",
            "170/170 [==============================] - 0s 347us/step - loss: 10924.9238 - root_mean_squared_error: 104.5224\n",
            "Epoch 18/35\n",
            "170/170 [==============================] - 0s 348us/step - loss: 10492.4219 - root_mean_squared_error: 102.4325\n",
            "Epoch 19/35\n",
            "170/170 [==============================] - 0s 348us/step - loss: 10204.5566 - root_mean_squared_error: 101.0176\n",
            "Epoch 20/35\n",
            "170/170 [==============================] - 0s 348us/step - loss: 10016.7461 - root_mean_squared_error: 100.0837\n",
            "Epoch 21/35\n",
            "170/170 [==============================] - 0s 346us/step - loss: 9885.6006 - root_mean_squared_error: 99.4264\n",
            "Epoch 22/35\n",
            "170/170 [==============================] - 0s 347us/step - loss: 9787.8398 - root_mean_squared_error: 98.9335\n",
            "Epoch 23/35\n",
            "170/170 [==============================] - 0s 345us/step - loss: 9715.0186 - root_mean_squared_error: 98.5648\n",
            "Epoch 24/35\n",
            "170/170 [==============================] - 0s 347us/step - loss: 9659.6865 - root_mean_squared_error: 98.2837\n",
            "Epoch 25/35\n",
            "170/170 [==============================] - 0s 346us/step - loss: 9618.2988 - root_mean_squared_error: 98.0729\n",
            "Epoch 26/35\n",
            "170/170 [==============================] - 0s 347us/step - loss: 9588.1113 - root_mean_squared_error: 97.9189\n",
            "Epoch 27/35\n",
            "170/170 [==============================] - 0s 348us/step - loss: 9564.3467 - root_mean_squared_error: 97.7975\n",
            "Epoch 28/35\n",
            "170/170 [==============================] - 0s 347us/step - loss: 9545.8311 - root_mean_squared_error: 97.7028\n",
            "Epoch 29/35\n",
            "170/170 [==============================] - 0s 348us/step - loss: 9532.7529 - root_mean_squared_error: 97.6358\n",
            "Epoch 30/35\n",
            "170/170 [==============================] - 0s 347us/step - loss: 9522.1865 - root_mean_squared_error: 97.5817\n",
            "Epoch 31/35\n",
            "170/170 [==============================] - 0s 346us/step - loss: 9513.9971 - root_mean_squared_error: 97.5397\n",
            "Epoch 32/35\n",
            "170/170 [==============================] - 0s 349us/step - loss: 9508.1074 - root_mean_squared_error: 97.5095\n",
            "Epoch 33/35\n",
            "170/170 [==============================] - 0s 349us/step - loss: 9503.1846 - root_mean_squared_error: 97.4843\n",
            "Epoch 34/35\n",
            "170/170 [==============================] - 0s 345us/step - loss: 9499.5186 - root_mean_squared_error: 97.4655\n",
            "Epoch 35/35\n",
            "170/170 [==============================] - 0s 349us/step - loss: 9496.3711 - root_mean_squared_error: 97.4493\n",
            "Model: \"model_2\"\n",
            "__________________________________________________________________________________________________\n",
            " Layer (type)                Output Shape                 Param #   Connected to                  \n",
            "==================================================================================================\n",
            " latitude (InputLayer)       [(None, 1)]                  0         []                            \n",
            "                                                                                                  \n",
            " longitude (InputLayer)      [(None, 1)]                  0         []                            \n",
            "                                                                                                  \n",
            " discretization_latitude (D  (None, 1)                    0         ['latitude[0][0]']            \n",
            " iscretization)                                                                                   \n",
            "                                                                                                  \n",
            " discretization_longitude (  (None, 1)                    0         ['longitude[0][0]']           \n",
            " Discretization)                                                                                  \n",
            "                                                                                                  \n",
            " cross_latitude_longitude (  (None, 90)                   0         ['discretization_latitude[0][0\n",
            " HashedCrossing)                                                    ]',                           \n",
            "                                                                     'discretization_longitude[0][\n",
            "                                                                    0]']                          \n",
            "                                                                                                  \n",
            " dense_layer (Dense)         (None, 1)                    91        ['cross_latitude_longitude[0][\n",
            "                                                                    0]']                          \n",
            "                                                                                                  \n",
            "==================================================================================================\n",
            "Total params: 91 (364.00 Byte)\n",
            "Trainable params: 91 (364.00 Byte)\n",
            "Non-trainable params: 0 (0.00 Byte)\n",
            "__________________________________________________________________________________________________\n"
          ]
        },
        {
          "data": {
            "image/png": "[encoded data removed]",
            "text/plain": [
              "<Figure size 640x480 with 1 Axes>"
            ]
          },
          "metadata": {},
          "output_type": "display_data"
        },
        {
          "name": "stdout",
          "output_type": "stream",
          "text": [
            "\n",
            ": Evaluate the new model against the test set:\n",
            "30/30 [==============================] - 0s 455us/step - loss: 9322.0195 - root_mean_squared_error: 96.5506\n"
          ]
        },
        {
          "data": {
            "text/plain": [
              "[9322.01953125, 96.55060577392578]"
            ]
          },
          "execution_count": 13,
          "metadata": {},
          "output_type": "execute_result"
        }
      ],
      "source": [
        "# The following variables are the hyperparameters.\n",
        "learning_rate = 0.04\n",
        "epochs = 35\n",
        "\n",
        "# Build the model, this time passing in the feature_cross_feature_layer:\n",
        "my_model = create_model(inputs, outputs, learning_rate)\n",
        "\n",
        "# Train the model on the training set.\n",
        "epochs, rmse = train_model(my_model, train_df, epochs, batch_size, label_name)\n",
        "\n",
        "# Print out the model summary.\n",
        "my_model.summary(expand_nested=True)\n",
        "\n",
        "plot_the_loss_curve(epochs, rmse)\n",
        "\n",
        "print(\"\\n: Evaluate the new model against the test set:\")\n",
        "my_model.evaluate(x=test_features, y=test_label, batch_size=batch_size)"
      ]
    },
    {
      "cell_type": "markdown",
      "metadata": {
        "id": "bCT-l1GaWNQE"
      },
      "source": [
        "## Task 4: Did the feature cross outperform buckets?\n",
        "\n",
        "Compare the model's `root_mean_squared_error` values for the two representations (buckets vs. feature cross)?  Which model produced\n",
        "lower losses?"
      ]
    },
    {
      "cell_type": "code",
      "execution_count": 14,
      "metadata": {
        "cellView": "form",
        "id": "HUzdWDcs5rCi"
      },
      "outputs": [],
      "source": [
        "#@title Double-click for an answer to this question.\n",
        "\n",
        "# Yes, representing these features as a feature\n",
        "# cross produced much lower loss values than\n",
        "# representing these features as buckets."
      ]
    },
    {
      "cell_type": "markdown",
      "metadata": {
        "id": "J9Iw3ljfXqSQ"
      },
      "source": [
        "## Task 5: Adjust the resolution of the feature cross\n",
        "\n",
        "Return to the code cell in the \"Represent location as a feature cross\" section. Notice that `resolution_in_degrees` is set to 1.0. Therefore, each cell represents an area of 1.0 degree of latitude by 1.0 degree of longitude, which corresponds to a cell of 110 km by 90 km.  This resolution defines a rather large neighborhood.\n",
        "\n",
        "Experiment with `resolution_in_degrees` to answer the following questions:\n",
        "\n",
        "  1. What value of `resolution_in_degrees` produces the best results (lowest loss value)?\n",
        "  2. Why does loss increase when the value of `resolution_in_degrees` drops below a certain value?\n",
        "\n",
        "Finally, answer the following question:\n",
        "\n",
        "  3. What feature (that does not exist in the California Housing Dataset) would\n",
        "     be a better proxy for location than latitude X longitude."
      ]
    },
    {
      "cell_type": "code",
      "execution_count": 15,
      "metadata": {
        "cellView": "form",
        "id": "71WWwlhx4h0X"
      },
      "outputs": [],
      "source": [
        "#@title Double-click for possible answers to Task 5.\n",
        "\n",
        "#1. A resolution of ~0.4 degree provides the best\n",
        "#   results.\n",
        "\n",
        "#2. Below ~0.4 degree, loss increases because the\n",
        "#   dataset does not contain enough examples in\n",
        "#   each cell to accurately predict prices for\n",
        "#   those cells.\n",
        "\n",
        "#3. Postal code would be a far better feature\n",
        "#   than latitude X longitude, assuming that\n",
        "#   the dataset contained sufficient examples\n",
        "#   in each postal code."
      ]
    }
  ],
  "metadata": {
    "colab": {
      "name": "Representation with a Feature Cross.ipynb",
      "private_outputs": true,
      "provenance": []
    },
    "kernelspec": {
      "display_name": "Python 3",
      "name": "python3"
    },
    "language_info": {
      "codemirror_mode": {
        "name": "ipython",
        "version": 3
      },
      "file_extension": ".py",
      "mimetype": "text/x-python",
      "name": "python",
      "nbconvert_exporter": "python",
      "pygments_lexer": "ipython3",
      "version": "3.9.6"
    }
  },
  "nbformat": 4,
  "nbformat_minor": 0
}
